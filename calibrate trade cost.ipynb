{
 "cells": [
  {
   "cell_type": "markdown",
   "id": "prospective-tragedy",
   "metadata": {},
   "source": [
    "# Calibrate the trade cost from 1996 - 2015 "
   ]
  },
  {
   "cell_type": "markdown",
   "id": "vulnerable-eclipse",
   "metadata": {},
   "source": [
    "Import the packages need. If you don't have these packages installed, use `Pkg.add()`"
   ]
  },
  {
   "cell_type": "code",
   "execution_count": 97,
   "id": "together-ranking",
   "metadata": {},
   "outputs": [],
   "source": [
    "using DataFrames, CSV, Plots, LinearAlgebra\n",
    "using Statistics"
   ]
  },
  {
   "cell_type": "code",
   "execution_count": 2,
   "id": "collect-publisher",
   "metadata": {},
   "outputs": [],
   "source": [
    "cd(\"C:\\\\Users\\\\niejun\\\\Desktop\\\\julia_course\\\\julia_python\\\\example_gravity\")"
   ]
  },
  {
   "cell_type": "code",
   "execution_count": 3,
   "id": "german-expense",
   "metadata": {},
   "outputs": [
    {
     "data": {
      "text/html": [
       "<div class=\"data-frame\"><p>32,000 rows × 16 columns (omitted printing of 7 columns)</p><table class=\"data-frame\"><thead><tr><th></th><th>iso3_o</th><th>iso3_d</th><th>year</th><th>trade</th><th>dist</th><th>contig</th><th>comlang_off</th><th>gdp_d</th><th>gdp_o</th></tr><tr><th></th><th title=\"String3\">String3</th><th title=\"String3\">String3</th><th title=\"Int64\">Int64</th><th title=\"Float64\">Float64</th><th title=\"Float64\">Float64</th><th title=\"Int64\">Int64</th><th title=\"Int64\">Int64</th><th title=\"Float64\">Float64</th><th title=\"Float64\">Float64</th></tr></thead><tbody><tr><th>1</th><td>ARG</td><td>ARG</td><td>1996</td><td>3.05515e8</td><td>625.647</td><td>0</td><td>0</td><td>3.29671e8</td><td>3.29671e8</td></tr><tr><th>2</th><td>ARG</td><td>AUS</td><td>1996</td><td>82169.8</td><td>11801.4</td><td>0</td><td>0</td><td>4.0141e8</td><td>3.29671e8</td></tr><tr><th>3</th><td>ARG</td><td>AUT</td><td>1996</td><td>20470.3</td><td>11833.8</td><td>0</td><td>0</td><td>2.3672e8</td><td>3.29671e8</td></tr><tr><th>4</th><td>ARG</td><td>BEL</td><td>1996</td><td>3.00743e5</td><td>11326.8</td><td>0</td><td>0</td><td>2.80791e8</td><td>3.29671e8</td></tr><tr><th>5</th><td>ARG</td><td>CAN</td><td>1996</td><td>1.33612e5</td><td>8970.1</td><td>0</td><td>0</td><td>6.2695e8</td><td>3.29671e8</td></tr><tr><th>6</th><td>ARG</td><td>CHE</td><td>1996</td><td>84461.0</td><td>11214.5</td><td>0</td><td>0</td><td>3.29619e8</td><td>3.29671e8</td></tr><tr><th>7</th><td>ARG</td><td>CHL</td><td>1996</td><td>1.76565e6</td><td>1128.32</td><td>1</td><td>1</td><td>7.5769e7</td><td>3.29671e8</td></tr><tr><th>8</th><td>ARG</td><td>CHN</td><td>1996</td><td>7.00786e5</td><td>19297.5</td><td>0</td><td>0</td><td>8.56085e8</td><td>3.29671e8</td></tr><tr><th>9</th><td>ARG</td><td>COL</td><td>1996</td><td>1.9091e5</td><td>4706.26</td><td>0</td><td>1</td><td>9.71601e7</td><td>3.29671e8</td></tr><tr><th>10</th><td>ARG</td><td>CZE</td><td>1996</td><td>12640.9</td><td>11836.8</td><td>0</td><td>0</td><td>6.67751e7</td><td>3.29671e8</td></tr><tr><th>11</th><td>ARG</td><td>DEU</td><td>1996</td><td>6.66325e5</td><td>11512.1</td><td>0</td><td>0</td><td>2.50157e9</td><td>3.29671e8</td></tr><tr><th>12</th><td>ARG</td><td>DNK</td><td>1996</td><td>1.88587e5</td><td>12089.5</td><td>0</td><td>0</td><td>1.87632e8</td><td>3.29671e8</td></tr><tr><th>13</th><td>ARG</td><td>ESP</td><td>1996</td><td>7.9903e5</td><td>10065.9</td><td>0</td><td>1</td><td>6.40998e8</td><td>3.29671e8</td></tr><tr><th>14</th><td>ARG</td><td>EST</td><td>1996</td><td>7486.86</td><td>12925.7</td><td>0</td><td>0</td><td>4.73918e6</td><td>3.29671e8</td></tr><tr><th>15</th><td>ARG</td><td>FIN</td><td>1996</td><td>20028.5</td><td>12971.3</td><td>0</td><td>0</td><td>1.32099e8</td><td>3.29671e8</td></tr><tr><th>16</th><td>ARG</td><td>FRA</td><td>1996</td><td>3.57e5</td><td>11072.3</td><td>0</td><td>0</td><td>1.61425e9</td><td>3.29671e8</td></tr><tr><th>17</th><td>ARG</td><td>GBR</td><td>1996</td><td>3.73729e5</td><td>11147.5</td><td>0</td><td>0</td><td>1.30451e9</td><td>3.29671e8</td></tr><tr><th>18</th><td>ARG</td><td>GRC</td><td>1996</td><td>97616.3</td><td>11711.4</td><td>0</td><td>0</td><td>1.46559e8</td><td>3.29671e8</td></tr><tr><th>19</th><td>ARG</td><td>HUN</td><td>1996</td><td>10829.6</td><td>11957.1</td><td>0</td><td>0</td><td>4.64488e7</td><td>3.29671e8</td></tr><tr><th>20</th><td>ARG</td><td>IRL</td><td>1996</td><td>35189.7</td><td>11013.0</td><td>0</td><td>0</td><td>7.56959e7</td><td>3.29671e8</td></tr><tr><th>21</th><td>ARG</td><td>ISL</td><td>1996</td><td>0.001</td><td>11455.9</td><td>0</td><td>0</td><td>7.52627e6</td><td>3.29671e8</td></tr><tr><th>22</th><td>ARG</td><td>ISR</td><td>1996</td><td>64492.6</td><td>12241.6</td><td>0</td><td>0</td><td>1.09161e8</td><td>3.29671e8</td></tr><tr><th>23</th><td>ARG</td><td>ITA</td><td>1996</td><td>7.61712e5</td><td>11173.6</td><td>0</td><td>0</td><td>1.30941e9</td><td>3.29671e8</td></tr><tr><th>24</th><td>ARG</td><td>JPN</td><td>1996</td><td>5.17925e5</td><td>18372.0</td><td>0</td><td>0</td><td>4.70619e9</td><td>3.29671e8</td></tr><tr><th>25</th><td>ARG</td><td>KOR</td><td>1996</td><td>2.40925e5</td><td>19447.3</td><td>0</td><td>0</td><td>6.03413e8</td><td>3.29671e8</td></tr><tr><th>26</th><td>ARG</td><td>LTU</td><td>1996</td><td>8899.32</td><td>12731.3</td><td>0</td><td>0</td><td>8.4266e6</td><td>3.29671e8</td></tr><tr><th>27</th><td>ARG</td><td>LVA</td><td>1996</td><td>2548.6</td><td>12773.9</td><td>0</td><td>0</td><td>5.58529e6</td><td>3.29671e8</td></tr><tr><th>28</th><td>ARG</td><td>MEX</td><td>1996</td><td>276177.0</td><td>7397.65</td><td>0</td><td>1</td><td>3.97404e8</td><td>3.29671e8</td></tr><tr><th>29</th><td>ARG</td><td>NLD</td><td>1996</td><td>1.24293e6</td><td>11466.7</td><td>0</td><td>0</td><td>4.42599e8</td><td>3.29671e8</td></tr><tr><th>30</th><td>ARG</td><td>NOR</td><td>1996</td><td>37680.1</td><td>12270.7</td><td>0</td><td>0</td><td>1.60158e8</td><td>3.29671e8</td></tr><tr><th>&vellip;</th><td>&vellip;</td><td>&vellip;</td><td>&vellip;</td><td>&vellip;</td><td>&vellip;</td><td>&vellip;</td><td>&vellip;</td><td>&vellip;</td><td>&vellip;</td></tr></tbody></table></div>"
      ],
      "text/latex": [
       "\\begin{tabular}{r|cccccccccc}\n",
       "\t& iso3\\_o & iso3\\_d & year & trade & dist & contig & comlang\\_off & gdp\\_d & gdp\\_o & \\\\\n",
       "\t\\hline\n",
       "\t& String3 & String3 & Int64 & Float64 & Float64 & Int64 & Int64 & Float64 & Float64 & \\\\\n",
       "\t\\hline\n",
       "\t1 & ARG & ARG & 1996 & 3.05515e8 & 625.647 & 0 & 0 & 3.29671e8 & 3.29671e8 & $\\dots$ \\\\\n",
       "\t2 & ARG & AUS & 1996 & 82169.8 & 11801.4 & 0 & 0 & 4.0141e8 & 3.29671e8 & $\\dots$ \\\\\n",
       "\t3 & ARG & AUT & 1996 & 20470.3 & 11833.8 & 0 & 0 & 2.3672e8 & 3.29671e8 & $\\dots$ \\\\\n",
       "\t4 & ARG & BEL & 1996 & 3.00743e5 & 11326.8 & 0 & 0 & 2.80791e8 & 3.29671e8 & $\\dots$ \\\\\n",
       "\t5 & ARG & CAN & 1996 & 1.33612e5 & 8970.1 & 0 & 0 & 6.2695e8 & 3.29671e8 & $\\dots$ \\\\\n",
       "\t6 & ARG & CHE & 1996 & 84461.0 & 11214.5 & 0 & 0 & 3.29619e8 & 3.29671e8 & $\\dots$ \\\\\n",
       "\t7 & ARG & CHL & 1996 & 1.76565e6 & 1128.32 & 1 & 1 & 7.5769e7 & 3.29671e8 & $\\dots$ \\\\\n",
       "\t8 & ARG & CHN & 1996 & 7.00786e5 & 19297.5 & 0 & 0 & 8.56085e8 & 3.29671e8 & $\\dots$ \\\\\n",
       "\t9 & ARG & COL & 1996 & 1.9091e5 & 4706.26 & 0 & 1 & 9.71601e7 & 3.29671e8 & $\\dots$ \\\\\n",
       "\t10 & ARG & CZE & 1996 & 12640.9 & 11836.8 & 0 & 0 & 6.67751e7 & 3.29671e8 & $\\dots$ \\\\\n",
       "\t11 & ARG & DEU & 1996 & 6.66325e5 & 11512.1 & 0 & 0 & 2.50157e9 & 3.29671e8 & $\\dots$ \\\\\n",
       "\t12 & ARG & DNK & 1996 & 1.88587e5 & 12089.5 & 0 & 0 & 1.87632e8 & 3.29671e8 & $\\dots$ \\\\\n",
       "\t13 & ARG & ESP & 1996 & 7.9903e5 & 10065.9 & 0 & 1 & 6.40998e8 & 3.29671e8 & $\\dots$ \\\\\n",
       "\t14 & ARG & EST & 1996 & 7486.86 & 12925.7 & 0 & 0 & 4.73918e6 & 3.29671e8 & $\\dots$ \\\\\n",
       "\t15 & ARG & FIN & 1996 & 20028.5 & 12971.3 & 0 & 0 & 1.32099e8 & 3.29671e8 & $\\dots$ \\\\\n",
       "\t16 & ARG & FRA & 1996 & 3.57e5 & 11072.3 & 0 & 0 & 1.61425e9 & 3.29671e8 & $\\dots$ \\\\\n",
       "\t17 & ARG & GBR & 1996 & 3.73729e5 & 11147.5 & 0 & 0 & 1.30451e9 & 3.29671e8 & $\\dots$ \\\\\n",
       "\t18 & ARG & GRC & 1996 & 97616.3 & 11711.4 & 0 & 0 & 1.46559e8 & 3.29671e8 & $\\dots$ \\\\\n",
       "\t19 & ARG & HUN & 1996 & 10829.6 & 11957.1 & 0 & 0 & 4.64488e7 & 3.29671e8 & $\\dots$ \\\\\n",
       "\t20 & ARG & IRL & 1996 & 35189.7 & 11013.0 & 0 & 0 & 7.56959e7 & 3.29671e8 & $\\dots$ \\\\\n",
       "\t21 & ARG & ISL & 1996 & 0.001 & 11455.9 & 0 & 0 & 7.52627e6 & 3.29671e8 & $\\dots$ \\\\\n",
       "\t22 & ARG & ISR & 1996 & 64492.6 & 12241.6 & 0 & 0 & 1.09161e8 & 3.29671e8 & $\\dots$ \\\\\n",
       "\t23 & ARG & ITA & 1996 & 7.61712e5 & 11173.6 & 0 & 0 & 1.30941e9 & 3.29671e8 & $\\dots$ \\\\\n",
       "\t24 & ARG & JPN & 1996 & 5.17925e5 & 18372.0 & 0 & 0 & 4.70619e9 & 3.29671e8 & $\\dots$ \\\\\n",
       "\t25 & ARG & KOR & 1996 & 2.40925e5 & 19447.3 & 0 & 0 & 6.03413e8 & 3.29671e8 & $\\dots$ \\\\\n",
       "\t26 & ARG & LTU & 1996 & 8899.32 & 12731.3 & 0 & 0 & 8.4266e6 & 3.29671e8 & $\\dots$ \\\\\n",
       "\t27 & ARG & LVA & 1996 & 2548.6 & 12773.9 & 0 & 0 & 5.58529e6 & 3.29671e8 & $\\dots$ \\\\\n",
       "\t28 & ARG & MEX & 1996 & 276177.0 & 7397.65 & 0 & 1 & 3.97404e8 & 3.29671e8 & $\\dots$ \\\\\n",
       "\t29 & ARG & NLD & 1996 & 1.24293e6 & 11466.7 & 0 & 0 & 4.42599e8 & 3.29671e8 & $\\dots$ \\\\\n",
       "\t30 & ARG & NOR & 1996 & 37680.1 & 12270.7 & 0 & 0 & 1.60158e8 & 3.29671e8 & $\\dots$ \\\\\n",
       "\t$\\dots$ & $\\dots$ & $\\dots$ & $\\dots$ & $\\dots$ & $\\dots$ & $\\dots$ & $\\dots$ & $\\dots$ & $\\dots$ &  \\\\\n",
       "\\end{tabular}\n"
      ],
      "text/plain": [
       "\u001b[1m32000×16 DataFrame\u001b[0m\n",
       "\u001b[1m   Row \u001b[0m│\u001b[1m iso3_o  \u001b[0m\u001b[1m iso3_d  \u001b[0m\u001b[1m year  \u001b[0m\u001b[1m trade         \u001b[0m\u001b[1m dist      \u001b[0m\u001b[1m contig \u001b[0m\u001b[1m comlang_of\u001b[0m ⋯\n",
       "\u001b[1m       \u001b[0m│\u001b[90m String3 \u001b[0m\u001b[90m String3 \u001b[0m\u001b[90m Int64 \u001b[0m\u001b[90m Float64       \u001b[0m\u001b[90m Float64   \u001b[0m\u001b[90m Int64  \u001b[0m\u001b[90m Int64     \u001b[0m ⋯\n",
       "───────┼────────────────────────────────────────────────────────────────────────\n",
       "     1 │ ARG      ARG       1996      3.05515e8    625.647       0             ⋯\n",
       "     2 │ ARG      AUS       1996  82169.8        11801.4         0\n",
       "     3 │ ARG      AUT       1996  20470.3        11833.8         0\n",
       "     4 │ ARG      BEL       1996      3.00743e5  11326.8         0\n",
       "     5 │ ARG      CAN       1996      1.33612e5   8970.1         0             ⋯\n",
       "     6 │ ARG      CHE       1996  84461.0        11214.5         0\n",
       "     7 │ ARG      CHL       1996      1.76565e6   1128.32        1\n",
       "     8 │ ARG      CHN       1996      7.00786e5  19297.5         0\n",
       "     9 │ ARG      COL       1996      1.9091e5    4706.26        0             ⋯\n",
       "    10 │ ARG      CZE       1996  12640.9        11836.8         0\n",
       "    11 │ ARG      DEU       1996      6.66325e5  11512.1         0\n",
       "   ⋮   │    ⋮        ⋮       ⋮          ⋮            ⋮        ⋮          ⋮     ⋱\n",
       " 31991 │ ZAF      NZL       2015      1.13636e5  11004.1         0\n",
       " 31992 │ ZAF      POL       2015      2.09401e5   9595.31        0             ⋯\n",
       " 31993 │ ZAF      PRT       2015      2.03825e5   8574.43        0\n",
       " 31994 │ ZAF      RUS       2015      4.43967e5  10147.9         0\n",
       " 31995 │ ZAF      SVK       2015  27739.5         9138.58        0\n",
       " 31996 │ ZAF      SVN       2015  78219.4         8912.86        0             ⋯\n",
       " 31997 │ ZAF      SWE       2015      1.89461e5  10380.6         0\n",
       " 31998 │ ZAF      TUR       2015      7.31941e5   8412.61        0\n",
       " 31999 │ ZAF      USA       2015      6.76688e6  12581.7         0\n",
       " 32000 │ ZAF      ZAF       2015      2.07884e8    415.43        0             ⋯\n",
       "\u001b[36m                                               10 columns and 31979 rows omitted\u001b[0m"
      ]
     },
     "execution_count": 3,
     "metadata": {},
     "output_type": "execute_result"
    }
   ],
   "source": [
    "df = CSV.read(\"Bilateraltrade.csv\", DataFrame, header = true)"
   ]
  },
  {
   "cell_type": "code",
   "execution_count": 5,
   "id": "frozen-starter",
   "metadata": {},
   "outputs": [
    {
     "data": {
      "text/plain": [
       "16-element Vector{String}:\n",
       " \"iso3_o\"\n",
       " \"iso3_d\"\n",
       " \"year\"\n",
       " \"trade\"\n",
       " \"dist\"\n",
       " \"contig\"\n",
       " \"comlang_off\"\n",
       " \"gdp_d\"\n",
       " \"gdp_o\"\n",
       " \"gdpcap_d\"\n",
       " \"gdpcap_o\"\n",
       " \"tot_exports\"\n",
       " \"tot_imports\"\n",
       " \"absorption\"\n",
       " \"homeexpenditure\"\n",
       " \"importshare\""
      ]
     },
     "execution_count": 5,
     "metadata": {},
     "output_type": "execute_result"
    }
   ],
   "source": [
    "names(df)"
   ]
  },
  {
   "cell_type": "markdown",
   "id": "convenient-jones",
   "metadata": {},
   "source": [
    "We have 40 countries, 20 time periods. Specifiy parameters for those"
   ]
  },
  {
   "cell_type": "code",
   "execution_count": 7,
   "id": "three-decade",
   "metadata": {},
   "outputs": [],
   "source": [
    "N = 40;\n",
    "T = 20;"
   ]
  },
  {
   "cell_type": "code",
   "execution_count": 8,
   "id": "pointed-confidence",
   "metadata": {},
   "outputs": [
    {
     "data": {
      "text/html": [
       "<div class=\"data-frame\"><p>32,000 rows × 16 columns (omitted printing of 7 columns)</p><table class=\"data-frame\"><thead><tr><th></th><th>iso3_o</th><th>iso3_d</th><th>year</th><th>trade</th><th>dist</th><th>contig</th><th>comlang_off</th><th>gdp_d</th><th>gdp_o</th></tr><tr><th></th><th title=\"String3\">String3</th><th title=\"String3\">String3</th><th title=\"Int64\">Int64</th><th title=\"Float64\">Float64</th><th title=\"Float64\">Float64</th><th title=\"Int64\">Int64</th><th title=\"Int64\">Int64</th><th title=\"Float64\">Float64</th><th title=\"Float64\">Float64</th></tr></thead><tbody><tr><th>1</th><td>ARG</td><td>ARG</td><td>1996</td><td>3.05515e8</td><td>625.647</td><td>0</td><td>0</td><td>3.29671e8</td><td>3.29671e8</td></tr><tr><th>2</th><td>ARG</td><td>AUS</td><td>1996</td><td>82169.8</td><td>11801.4</td><td>0</td><td>0</td><td>4.0141e8</td><td>3.29671e8</td></tr><tr><th>3</th><td>ARG</td><td>AUT</td><td>1996</td><td>20470.3</td><td>11833.8</td><td>0</td><td>0</td><td>2.3672e8</td><td>3.29671e8</td></tr><tr><th>4</th><td>ARG</td><td>BEL</td><td>1996</td><td>3.00743e5</td><td>11326.8</td><td>0</td><td>0</td><td>2.80791e8</td><td>3.29671e8</td></tr><tr><th>5</th><td>ARG</td><td>CAN</td><td>1996</td><td>1.33612e5</td><td>8970.1</td><td>0</td><td>0</td><td>6.2695e8</td><td>3.29671e8</td></tr><tr><th>6</th><td>ARG</td><td>CHE</td><td>1996</td><td>84461.0</td><td>11214.5</td><td>0</td><td>0</td><td>3.29619e8</td><td>3.29671e8</td></tr><tr><th>7</th><td>ARG</td><td>CHL</td><td>1996</td><td>1.76565e6</td><td>1128.32</td><td>1</td><td>1</td><td>7.5769e7</td><td>3.29671e8</td></tr><tr><th>8</th><td>ARG</td><td>CHN</td><td>1996</td><td>7.00786e5</td><td>19297.5</td><td>0</td><td>0</td><td>8.56085e8</td><td>3.29671e8</td></tr><tr><th>9</th><td>ARG</td><td>COL</td><td>1996</td><td>1.9091e5</td><td>4706.26</td><td>0</td><td>1</td><td>9.71601e7</td><td>3.29671e8</td></tr><tr><th>10</th><td>ARG</td><td>CZE</td><td>1996</td><td>12640.9</td><td>11836.8</td><td>0</td><td>0</td><td>6.67751e7</td><td>3.29671e8</td></tr><tr><th>11</th><td>ARG</td><td>DEU</td><td>1996</td><td>6.66325e5</td><td>11512.1</td><td>0</td><td>0</td><td>2.50157e9</td><td>3.29671e8</td></tr><tr><th>12</th><td>ARG</td><td>DNK</td><td>1996</td><td>1.88587e5</td><td>12089.5</td><td>0</td><td>0</td><td>1.87632e8</td><td>3.29671e8</td></tr><tr><th>13</th><td>ARG</td><td>ESP</td><td>1996</td><td>7.9903e5</td><td>10065.9</td><td>0</td><td>1</td><td>6.40998e8</td><td>3.29671e8</td></tr><tr><th>14</th><td>ARG</td><td>EST</td><td>1996</td><td>7486.86</td><td>12925.7</td><td>0</td><td>0</td><td>4.73918e6</td><td>3.29671e8</td></tr><tr><th>15</th><td>ARG</td><td>FIN</td><td>1996</td><td>20028.5</td><td>12971.3</td><td>0</td><td>0</td><td>1.32099e8</td><td>3.29671e8</td></tr><tr><th>16</th><td>ARG</td><td>FRA</td><td>1996</td><td>3.57e5</td><td>11072.3</td><td>0</td><td>0</td><td>1.61425e9</td><td>3.29671e8</td></tr><tr><th>17</th><td>ARG</td><td>GBR</td><td>1996</td><td>3.73729e5</td><td>11147.5</td><td>0</td><td>0</td><td>1.30451e9</td><td>3.29671e8</td></tr><tr><th>18</th><td>ARG</td><td>GRC</td><td>1996</td><td>97616.3</td><td>11711.4</td><td>0</td><td>0</td><td>1.46559e8</td><td>3.29671e8</td></tr><tr><th>19</th><td>ARG</td><td>HUN</td><td>1996</td><td>10829.6</td><td>11957.1</td><td>0</td><td>0</td><td>4.64488e7</td><td>3.29671e8</td></tr><tr><th>20</th><td>ARG</td><td>IRL</td><td>1996</td><td>35189.7</td><td>11013.0</td><td>0</td><td>0</td><td>7.56959e7</td><td>3.29671e8</td></tr><tr><th>21</th><td>ARG</td><td>ISL</td><td>1996</td><td>0.001</td><td>11455.9</td><td>0</td><td>0</td><td>7.52627e6</td><td>3.29671e8</td></tr><tr><th>22</th><td>ARG</td><td>ISR</td><td>1996</td><td>64492.6</td><td>12241.6</td><td>0</td><td>0</td><td>1.09161e8</td><td>3.29671e8</td></tr><tr><th>23</th><td>ARG</td><td>ITA</td><td>1996</td><td>7.61712e5</td><td>11173.6</td><td>0</td><td>0</td><td>1.30941e9</td><td>3.29671e8</td></tr><tr><th>24</th><td>ARG</td><td>JPN</td><td>1996</td><td>5.17925e5</td><td>18372.0</td><td>0</td><td>0</td><td>4.70619e9</td><td>3.29671e8</td></tr><tr><th>25</th><td>ARG</td><td>KOR</td><td>1996</td><td>2.40925e5</td><td>19447.3</td><td>0</td><td>0</td><td>6.03413e8</td><td>3.29671e8</td></tr><tr><th>26</th><td>ARG</td><td>LTU</td><td>1996</td><td>8899.32</td><td>12731.3</td><td>0</td><td>0</td><td>8.4266e6</td><td>3.29671e8</td></tr><tr><th>27</th><td>ARG</td><td>LVA</td><td>1996</td><td>2548.6</td><td>12773.9</td><td>0</td><td>0</td><td>5.58529e6</td><td>3.29671e8</td></tr><tr><th>28</th><td>ARG</td><td>MEX</td><td>1996</td><td>276177.0</td><td>7397.65</td><td>0</td><td>1</td><td>3.97404e8</td><td>3.29671e8</td></tr><tr><th>29</th><td>ARG</td><td>NLD</td><td>1996</td><td>1.24293e6</td><td>11466.7</td><td>0</td><td>0</td><td>4.42599e8</td><td>3.29671e8</td></tr><tr><th>30</th><td>ARG</td><td>NOR</td><td>1996</td><td>37680.1</td><td>12270.7</td><td>0</td><td>0</td><td>1.60158e8</td><td>3.29671e8</td></tr><tr><th>&vellip;</th><td>&vellip;</td><td>&vellip;</td><td>&vellip;</td><td>&vellip;</td><td>&vellip;</td><td>&vellip;</td><td>&vellip;</td><td>&vellip;</td><td>&vellip;</td></tr></tbody></table></div>"
      ],
      "text/latex": [
       "\\begin{tabular}{r|cccccccccc}\n",
       "\t& iso3\\_o & iso3\\_d & year & trade & dist & contig & comlang\\_off & gdp\\_d & gdp\\_o & \\\\\n",
       "\t\\hline\n",
       "\t& String3 & String3 & Int64 & Float64 & Float64 & Int64 & Int64 & Float64 & Float64 & \\\\\n",
       "\t\\hline\n",
       "\t1 & ARG & ARG & 1996 & 3.05515e8 & 625.647 & 0 & 0 & 3.29671e8 & 3.29671e8 & $\\dots$ \\\\\n",
       "\t2 & ARG & AUS & 1996 & 82169.8 & 11801.4 & 0 & 0 & 4.0141e8 & 3.29671e8 & $\\dots$ \\\\\n",
       "\t3 & ARG & AUT & 1996 & 20470.3 & 11833.8 & 0 & 0 & 2.3672e8 & 3.29671e8 & $\\dots$ \\\\\n",
       "\t4 & ARG & BEL & 1996 & 3.00743e5 & 11326.8 & 0 & 0 & 2.80791e8 & 3.29671e8 & $\\dots$ \\\\\n",
       "\t5 & ARG & CAN & 1996 & 1.33612e5 & 8970.1 & 0 & 0 & 6.2695e8 & 3.29671e8 & $\\dots$ \\\\\n",
       "\t6 & ARG & CHE & 1996 & 84461.0 & 11214.5 & 0 & 0 & 3.29619e8 & 3.29671e8 & $\\dots$ \\\\\n",
       "\t7 & ARG & CHL & 1996 & 1.76565e6 & 1128.32 & 1 & 1 & 7.5769e7 & 3.29671e8 & $\\dots$ \\\\\n",
       "\t8 & ARG & CHN & 1996 & 7.00786e5 & 19297.5 & 0 & 0 & 8.56085e8 & 3.29671e8 & $\\dots$ \\\\\n",
       "\t9 & ARG & COL & 1996 & 1.9091e5 & 4706.26 & 0 & 1 & 9.71601e7 & 3.29671e8 & $\\dots$ \\\\\n",
       "\t10 & ARG & CZE & 1996 & 12640.9 & 11836.8 & 0 & 0 & 6.67751e7 & 3.29671e8 & $\\dots$ \\\\\n",
       "\t11 & ARG & DEU & 1996 & 6.66325e5 & 11512.1 & 0 & 0 & 2.50157e9 & 3.29671e8 & $\\dots$ \\\\\n",
       "\t12 & ARG & DNK & 1996 & 1.88587e5 & 12089.5 & 0 & 0 & 1.87632e8 & 3.29671e8 & $\\dots$ \\\\\n",
       "\t13 & ARG & ESP & 1996 & 7.9903e5 & 10065.9 & 0 & 1 & 6.40998e8 & 3.29671e8 & $\\dots$ \\\\\n",
       "\t14 & ARG & EST & 1996 & 7486.86 & 12925.7 & 0 & 0 & 4.73918e6 & 3.29671e8 & $\\dots$ \\\\\n",
       "\t15 & ARG & FIN & 1996 & 20028.5 & 12971.3 & 0 & 0 & 1.32099e8 & 3.29671e8 & $\\dots$ \\\\\n",
       "\t16 & ARG & FRA & 1996 & 3.57e5 & 11072.3 & 0 & 0 & 1.61425e9 & 3.29671e8 & $\\dots$ \\\\\n",
       "\t17 & ARG & GBR & 1996 & 3.73729e5 & 11147.5 & 0 & 0 & 1.30451e9 & 3.29671e8 & $\\dots$ \\\\\n",
       "\t18 & ARG & GRC & 1996 & 97616.3 & 11711.4 & 0 & 0 & 1.46559e8 & 3.29671e8 & $\\dots$ \\\\\n",
       "\t19 & ARG & HUN & 1996 & 10829.6 & 11957.1 & 0 & 0 & 4.64488e7 & 3.29671e8 & $\\dots$ \\\\\n",
       "\t20 & ARG & IRL & 1996 & 35189.7 & 11013.0 & 0 & 0 & 7.56959e7 & 3.29671e8 & $\\dots$ \\\\\n",
       "\t21 & ARG & ISL & 1996 & 0.001 & 11455.9 & 0 & 0 & 7.52627e6 & 3.29671e8 & $\\dots$ \\\\\n",
       "\t22 & ARG & ISR & 1996 & 64492.6 & 12241.6 & 0 & 0 & 1.09161e8 & 3.29671e8 & $\\dots$ \\\\\n",
       "\t23 & ARG & ITA & 1996 & 7.61712e5 & 11173.6 & 0 & 0 & 1.30941e9 & 3.29671e8 & $\\dots$ \\\\\n",
       "\t24 & ARG & JPN & 1996 & 5.17925e5 & 18372.0 & 0 & 0 & 4.70619e9 & 3.29671e8 & $\\dots$ \\\\\n",
       "\t25 & ARG & KOR & 1996 & 2.40925e5 & 19447.3 & 0 & 0 & 6.03413e8 & 3.29671e8 & $\\dots$ \\\\\n",
       "\t26 & ARG & LTU & 1996 & 8899.32 & 12731.3 & 0 & 0 & 8.4266e6 & 3.29671e8 & $\\dots$ \\\\\n",
       "\t27 & ARG & LVA & 1996 & 2548.6 & 12773.9 & 0 & 0 & 5.58529e6 & 3.29671e8 & $\\dots$ \\\\\n",
       "\t28 & ARG & MEX & 1996 & 276177.0 & 7397.65 & 0 & 1 & 3.97404e8 & 3.29671e8 & $\\dots$ \\\\\n",
       "\t29 & ARG & NLD & 1996 & 1.24293e6 & 11466.7 & 0 & 0 & 4.42599e8 & 3.29671e8 & $\\dots$ \\\\\n",
       "\t30 & ARG & NOR & 1996 & 37680.1 & 12270.7 & 0 & 0 & 1.60158e8 & 3.29671e8 & $\\dots$ \\\\\n",
       "\t$\\dots$ & $\\dots$ & $\\dots$ & $\\dots$ & $\\dots$ & $\\dots$ & $\\dots$ & $\\dots$ & $\\dots$ & $\\dots$ &  \\\\\n",
       "\\end{tabular}\n"
      ],
      "text/plain": [
       "\u001b[1m32000×16 DataFrame\u001b[0m\n",
       "\u001b[1m   Row \u001b[0m│\u001b[1m iso3_o  \u001b[0m\u001b[1m iso3_d  \u001b[0m\u001b[1m year  \u001b[0m\u001b[1m trade         \u001b[0m\u001b[1m dist      \u001b[0m\u001b[1m contig \u001b[0m\u001b[1m comlang_of\u001b[0m ⋯\n",
       "\u001b[1m       \u001b[0m│\u001b[90m String3 \u001b[0m\u001b[90m String3 \u001b[0m\u001b[90m Int64 \u001b[0m\u001b[90m Float64       \u001b[0m\u001b[90m Float64   \u001b[0m\u001b[90m Int64  \u001b[0m\u001b[90m Int64     \u001b[0m ⋯\n",
       "───────┼────────────────────────────────────────────────────────────────────────\n",
       "     1 │ ARG      ARG       1996      3.05515e8    625.647       0             ⋯\n",
       "     2 │ ARG      AUS       1996  82169.8        11801.4         0\n",
       "     3 │ ARG      AUT       1996  20470.3        11833.8         0\n",
       "     4 │ ARG      BEL       1996      3.00743e5  11326.8         0\n",
       "     5 │ ARG      CAN       1996      1.33612e5   8970.1         0             ⋯\n",
       "     6 │ ARG      CHE       1996  84461.0        11214.5         0\n",
       "     7 │ ARG      CHL       1996      1.76565e6   1128.32        1\n",
       "     8 │ ARG      CHN       1996      7.00786e5  19297.5         0\n",
       "     9 │ ARG      COL       1996      1.9091e5    4706.26        0             ⋯\n",
       "    10 │ ARG      CZE       1996  12640.9        11836.8         0\n",
       "    11 │ ARG      DEU       1996      6.66325e5  11512.1         0\n",
       "   ⋮   │    ⋮        ⋮       ⋮          ⋮            ⋮        ⋮          ⋮     ⋱\n",
       " 31991 │ ZAF      NZL       2015      1.13636e5  11004.1         0\n",
       " 31992 │ ZAF      POL       2015      2.09401e5   9595.31        0             ⋯\n",
       " 31993 │ ZAF      PRT       2015      2.03825e5   8574.43        0\n",
       " 31994 │ ZAF      RUS       2015      4.43967e5  10147.9         0\n",
       " 31995 │ ZAF      SVK       2015  27739.5         9138.58        0\n",
       " 31996 │ ZAF      SVN       2015  78219.4         8912.86        0             ⋯\n",
       " 31997 │ ZAF      SWE       2015      1.89461e5  10380.6         0\n",
       " 31998 │ ZAF      TUR       2015      7.31941e5   8412.61        0\n",
       " 31999 │ ZAF      USA       2015      6.76688e6  12581.7         0\n",
       " 32000 │ ZAF      ZAF       2015      2.07884e8    415.43        0             ⋯\n",
       "\u001b[36m                                               10 columns and 31979 rows omitted\u001b[0m"
      ]
     },
     "execution_count": 8,
     "metadata": {},
     "output_type": "execute_result"
    }
   ],
   "source": [
    "sort!(df, [:year, :iso3_o, :iso3_d]) # sort years, exporter_iso3, importer_iso3"
   ]
  },
  {
   "cell_type": "markdown",
   "id": "addressed-cincinnati",
   "metadata": {},
   "source": [
    "Recall from EK model, we have tradeshare that country $n$ import from country $i$\n",
    "\n",
    "\\begin{equation}\n",
    "    \\pi_{ni} = \\frac{T_{i}(w_{i}\\tau_{ni})^{-\\theta}}{\\sum_{i=1}^{N}T_{i}(w_{i}\\tau_{ni})^{-\\theta}}\n",
    "\\end{equation}\n",
    "\n",
    "We can take relative import share,\n",
    "\n",
    "\\begin{equation}\n",
    "    \\frac{\\pi_{ni}}{\\pi_{nn}} = \\left(w_{i}T_{i}^{-\\frac{1}{\\theta}} \\right)^{-\\theta} \\left(w_{n}T_{n}^{-\\frac{1}{\\theta}} \\right)^{\\theta} \\tau_{ni}^{-\\theta}\n",
    "\\end{equation}\n",
    "\n",
    "By taking logarithm, \n",
    "\n",
    "\\begin{equation}\n",
    "    log(\\frac{\\pi_{ni}}{\\pi_{nn}}) = F_{i} - F_{n} - \\theta log(\\tau_{ni})\n",
    "\\end{equation}\n",
    "\n",
    "Following Waugh (2010, 2014), we assume exporter specific fix effects $e_{i}$. By this setting, $F_{n} = F_{i} + \\theta e_{i} $ for $n = i$. In addtion, this $e_{i}$ can be interpret as exporter barrier in the trade cost $\\tau_{ni}$. We assume the trade cost has following form,\n",
    "\n",
    "\\begin{equation}\n",
    "    log(\\tau_{ni}) = \\sum_{k=1}^{6} \\beta_{k} dist_{k} + \\beta_{7}contingent + \\beta_{8}language + e_{i} + \\varepsilon_{ni}\n",
    "\\end{equation}\n",
    "\n",
    "So we will have reduce form gravity equation,\n",
    "\n",
    "\\begin{equation}\n",
    "    log(\\frac{\\pi_{ni}}{\\pi_{nn}}) = F_{i} - F_{n} - \\theta \\sum_{k=1}^{6} \\beta_{k} dist_{k} - \\theta \\beta_{7}contingent - \\theta \\beta_{8}language - \\theta e_{i} - \\theta \\varepsilon_{ni}\n",
    "\\end{equation}"
   ]
  },
  {
   "cell_type": "code",
   "execution_count": 10,
   "id": "spectacular-proceeding",
   "metadata": {},
   "outputs": [],
   "source": [
    "tradeshare = df[:, :importshare];\n",
    "tradeshare = reshape(tradeshare, N*N, 1, T); #construct the tradesahre vector \n",
    "border = df[:, :contig];\n",
    "border = reshape(border, N*N, 1,T);\n",
    "language = df[:, :comlang_off];\n",
    "language = reshape(language, N*N, 1, T);"
   ]
  },
  {
   "cell_type": "code",
   "execution_count": 11,
   "id": "hairy-anniversary",
   "metadata": {},
   "outputs": [],
   "source": [
    "# create the dummy variables for the distance \n",
    "df.dist1 .= 0.0;\n",
    "df[:, :dist1] .= ifelse.(0 .<= df.dist .<= 375, 1.0 , df[:, :dist1]);\n",
    "df.dist2 .= 0.0;\n",
    "df[:, :dist2] .= ifelse.(375 .< df.dist .< 750, 1.0 , df[:, :dist2]);\n",
    "df.dist3 .= 0.0;\n",
    "df[:, :dist3] .= ifelse.(750 .<= df.dist .< 1500, 1.0 , df[:, :dist3]);\n",
    "df.dist4 .= 0.0;\n",
    "df[:, :dist4] .= ifelse.(1500 .<= df.dist .< 3000, 1.0 , df[:, :dist4]);\n",
    "df.dist5 .= 0.0;\n",
    "df[:, :dist5] .= ifelse.(3000 .<= df.dist .< 6000, 1.0 , df[:, :dist5]);\n",
    "df.dist6 .= 0.0;\n",
    "df[:, :dist6] .= ifelse.(6000 .<= df.dist , 1.0 , df[:, :dist6]);"
   ]
  },
  {
   "cell_type": "markdown",
   "id": "silent-calibration",
   "metadata": {},
   "source": [
    "We have trade shares, distance dummies, language dummy, and border dummy. Next, we need to construct the importer and exporter fix effects. Because we also have time demension, so we repate the fix effects matrix by T = 20 times."
   ]
  },
  {
   "cell_type": "code",
   "execution_count": 12,
   "id": "raising-tamil",
   "metadata": {},
   "outputs": [],
   "source": [
    "temp = 1.0 .* Matrix(I,N,N);\n",
    "ct = 0;\n",
    "im_fe = Array{Float64,2}(undef,N*N, N);\n",
    "ex_fe = Array{Float64,2}(undef,N*N, N);\n",
    "for i in 1:N\n",
    "    for n in 1:N\n",
    "            global ct += 1\n",
    "            im_fe[ct,:] = temp[n,:]'\n",
    "            ex_fe[ct,:] = temp[i,:]'\n",
    "    end\n",
    "end\n",
    "# im_fe = repeat(temp, N,N)\n",
    "\n",
    "# im_fe = repeat(im_fe, 1,1, T);\n",
    "# ex_fe = repeat(ex_fe, 1,1, T);"
   ]
  },
  {
   "cell_type": "markdown",
   "id": "original-appearance",
   "metadata": {},
   "source": [
    "Remeber, for Eaton-kortum model, we need $\\pi_{ni}/\\pi_{nn}$ for the RHS"
   ]
  },
  {
   "cell_type": "code",
   "execution_count": 13,
   "id": "injured-regular",
   "metadata": {},
   "outputs": [
    {
     "data": {
      "text/plain": [
       "(1600, 1, 20)"
      ]
     },
     "execution_count": 13,
     "metadata": {},
     "output_type": "execute_result"
    }
   ],
   "source": [
    "size(tradeshare)"
   ]
  },
  {
   "cell_type": "code",
   "execution_count": 14,
   "id": "palestinian-village",
   "metadata": {},
   "outputs": [
    {
     "data": {
      "text/plain": [
       "1600×1 Matrix{Float64}:\n",
       " 1.0\n",
       " 0.0004663527961472754\n",
       " 0.00029495267755098837\n",
       " 0.006247073680962324\n",
       " 0.0016354769090368318\n",
       " 0.0019444016703799715\n",
       " 0.026927061434103946\n",
       " 0.0008280338237747959\n",
       " 0.006784303417362876\n",
       " 0.0010513145319301835\n",
       " 0.0009517819007474409\n",
       " 0.0018687386490506043\n",
       " 0.00234800494592495\n",
       " ⋮\n",
       " 0.009354967669497427\n",
       " 0.0023932213322993352\n",
       " 0.0008770121017061489\n",
       " 0.0009305514378112475\n",
       " 0.0007267169402578634\n",
       " 0.00035149784729470704\n",
       " 0.0026440653329600763\n",
       " 0.0052915332119897775\n",
       " 0.0008643890462367899\n",
       " 0.0017828160598098624\n",
       " 0.000602870666723257\n",
       " 1.0"
      ]
     },
     "execution_count": 14,
     "metadata": {},
     "output_type": "execute_result"
    }
   ],
   "source": [
    "hts = df.homeexpenditure./df.absorption;\n",
    "hts = reshape(hts, N*N,1,T);\n",
    "X_ni_X_nn = df.trade./df.homeexpenditure;\n",
    "X_ni_X_nn = reshape(X_ni_X_nn, N*N,1,T);\n",
    "X_ni_X_nn[:,:,17]"
   ]
  },
  {
   "cell_type": "code",
   "execution_count": 15,
   "id": "ultimate-academy",
   "metadata": {},
   "outputs": [
    {
     "data": {
      "text/plain": [
       "(1600, 1, 20)"
      ]
     },
     "execution_count": 15,
     "metadata": {},
     "output_type": "execute_result"
    }
   ],
   "source": [
    "key = 1 .- Matrix(I,N,N);\n",
    "key = reshape(key,N*N,1);\n",
    "key = repeat(key, 1,1,T);\n",
    "# key = repeat(key,1,N+N+8)\n",
    "size(key)"
   ]
  },
  {
   "cell_type": "code",
   "execution_count": 16,
   "id": "personal-canvas",
   "metadata": {},
   "outputs": [
    {
     "data": {
      "text/plain": [
       "(1600, 1, 20)"
      ]
     },
     "execution_count": 16,
     "metadata": {},
     "output_type": "execute_result"
    }
   ],
   "source": [
    "log_X_ni_X_nn = log.(X_ni_X_nn);\n",
    "size(log_X_ni_X_nn)"
   ]
  },
  {
   "cell_type": "code",
   "execution_count": 17,
   "id": "fantastic-projection",
   "metadata": {},
   "outputs": [
    {
     "data": {
      "text/plain": [
       "(1560, 1, 20)"
      ]
     },
     "execution_count": 17,
     "metadata": {},
     "output_type": "execute_result"
    }
   ],
   "source": [
    "# lhs1 = log_X_ni_X_nn[setdiff(1:end, findall(key.==0))]\n",
    "lhs1 = log_X_ni_X_nn[findall(key.==1),:]\n",
    "size(lhs1)\n",
    "lhs1 = reshape(lhs1, N*(N-1), 1, T);\n",
    "size(lhs1)"
   ]
  },
  {
   "cell_type": "code",
   "execution_count": 18,
   "id": "skilled-flesh",
   "metadata": {},
   "outputs": [
    {
     "data": {
      "text/plain": [
       "1600×88 Matrix{Float64}:\n",
       " 0.0  1.0  0.0  0.0  0.0  0.0  0.0  0.0  …  0.0  0.0  0.0  0.0  0.0  0.0  0.0\n",
       " 0.0  0.0  0.0  0.0  0.0  1.0  0.0  0.0     0.0  0.0  0.0  0.0  0.0  0.0  0.0\n",
       " 0.0  0.0  0.0  0.0  0.0  1.0  0.0  0.0     0.0  0.0  0.0  0.0  0.0  0.0  0.0\n",
       " 0.0  0.0  0.0  0.0  0.0  1.0  0.0  0.0     0.0  0.0  0.0  0.0  0.0  0.0  0.0\n",
       " 0.0  0.0  0.0  0.0  0.0  1.0  0.0  0.0     0.0  0.0  0.0  0.0  0.0  0.0  0.0\n",
       " 0.0  0.0  0.0  0.0  0.0  1.0  0.0  0.0  …  0.0  0.0  0.0  0.0  0.0  0.0  0.0\n",
       " 0.0  0.0  1.0  0.0  0.0  0.0  1.0  1.0     0.0  0.0  0.0  0.0  0.0  0.0  0.0\n",
       " 0.0  0.0  0.0  0.0  0.0  1.0  0.0  0.0     0.0  0.0  0.0  0.0  0.0  0.0  0.0\n",
       " 0.0  0.0  0.0  0.0  1.0  0.0  0.0  1.0     0.0  0.0  0.0  0.0  0.0  0.0  0.0\n",
       " 0.0  0.0  0.0  0.0  0.0  1.0  0.0  0.0     0.0  0.0  0.0  0.0  0.0  0.0  0.0\n",
       " 0.0  0.0  0.0  0.0  0.0  1.0  0.0  0.0  …  0.0  0.0  0.0  0.0  0.0  0.0  0.0\n",
       " 0.0  0.0  0.0  0.0  0.0  1.0  0.0  0.0     0.0  0.0  0.0  0.0  0.0  0.0  0.0\n",
       " 0.0  0.0  0.0  0.0  0.0  1.0  0.0  1.0     0.0  0.0  0.0  0.0  0.0  0.0  0.0\n",
       " ⋮                        ⋮              ⋱                      ⋮         \n",
       " 0.0  0.0  0.0  0.0  0.0  1.0  0.0  0.0     0.0  0.0  0.0  0.0  0.0  0.0  0.0\n",
       " 0.0  0.0  0.0  0.0  0.0  1.0  0.0  0.0     0.0  0.0  0.0  0.0  0.0  0.0  0.0\n",
       " 0.0  0.0  0.0  0.0  0.0  1.0  0.0  1.0  …  0.0  0.0  0.0  0.0  0.0  0.0  0.0\n",
       " 0.0  0.0  0.0  0.0  0.0  1.0  0.0  0.0     0.0  0.0  0.0  0.0  0.0  0.0  0.0\n",
       " 0.0  0.0  0.0  0.0  0.0  1.0  0.0  0.0     0.0  0.0  0.0  0.0  0.0  0.0  0.0\n",
       " 0.0  0.0  0.0  0.0  0.0  1.0  0.0  0.0     1.0  0.0  0.0  0.0  0.0  0.0  0.0\n",
       " 0.0  0.0  0.0  0.0  0.0  1.0  0.0  0.0     0.0  1.0  0.0  0.0  0.0  0.0  0.0\n",
       " 0.0  0.0  0.0  0.0  0.0  1.0  0.0  0.0  …  0.0  0.0  1.0  0.0  0.0  0.0  0.0\n",
       " 0.0  0.0  0.0  0.0  0.0  1.0  0.0  0.0     0.0  0.0  0.0  1.0  0.0  0.0  0.0\n",
       " 0.0  0.0  0.0  0.0  0.0  1.0  0.0  0.0     0.0  0.0  0.0  0.0  1.0  0.0  0.0\n",
       " 0.0  0.0  0.0  0.0  0.0  1.0  0.0  1.0     0.0  0.0  0.0  0.0  0.0  1.0  0.0\n",
       " 0.0  1.0  0.0  0.0  0.0  0.0  0.0  0.0     0.0  0.0  0.0  0.0  0.0  0.0  1.0"
      ]
     },
     "execution_count": 18,
     "metadata": {},
     "output_type": "execute_result"
    }
   ],
   "source": [
    "dist1 = df.dist1[1:N*N];\n",
    "dist2 = df.dist2[1:N*N];\n",
    "dist3 = df.dist3[1:N*N];\n",
    "dist4 = df.dist4[1:N*N];\n",
    "dist5 = df.dist5[1:N*N];\n",
    "dist6 = df.dist6[1:N*N];\n",
    "contig = border[:,:,1];\n",
    "lang = language[:,:,1];\n",
    "\n",
    "rhs = [dist1 dist2 dist3 dist4 dist5 dist6 contig lang ex_fe im_fe]\n",
    "# rhs = [log.(df.dist[1:N*N]) contig lang ex_fe im_fe]\n",
    "# rhs = repeat(rhs,1,1,T)"
   ]
  },
  {
   "cell_type": "code",
   "execution_count": 19,
   "id": "unlikely-december",
   "metadata": {},
   "outputs": [
    {
     "data": {
      "text/plain": [
       "1560×88 Matrix{Float64}:\n",
       " 0.0  0.0  0.0  0.0  0.0  1.0  0.0  0.0  …  0.0  0.0  0.0  0.0  0.0  0.0  0.0\n",
       " 0.0  0.0  0.0  0.0  0.0  1.0  0.0  0.0     0.0  0.0  0.0  0.0  0.0  0.0  0.0\n",
       " 0.0  0.0  0.0  0.0  0.0  1.0  0.0  0.0     0.0  0.0  0.0  0.0  0.0  0.0  0.0\n",
       " 0.0  0.0  0.0  0.0  0.0  1.0  0.0  0.0     0.0  0.0  0.0  0.0  0.0  0.0  0.0\n",
       " 0.0  0.0  0.0  0.0  0.0  1.0  0.0  0.0     0.0  0.0  0.0  0.0  0.0  0.0  0.0\n",
       " 0.0  0.0  1.0  0.0  0.0  0.0  1.0  1.0  …  0.0  0.0  0.0  0.0  0.0  0.0  0.0\n",
       " 0.0  0.0  0.0  0.0  0.0  1.0  0.0  0.0     0.0  0.0  0.0  0.0  0.0  0.0  0.0\n",
       " 0.0  0.0  0.0  0.0  1.0  0.0  0.0  1.0     0.0  0.0  0.0  0.0  0.0  0.0  0.0\n",
       " 0.0  0.0  0.0  0.0  0.0  1.0  0.0  0.0     0.0  0.0  0.0  0.0  0.0  0.0  0.0\n",
       " 0.0  0.0  0.0  0.0  0.0  1.0  0.0  0.0     0.0  0.0  0.0  0.0  0.0  0.0  0.0\n",
       " 0.0  0.0  0.0  0.0  0.0  1.0  0.0  0.0  …  0.0  0.0  0.0  0.0  0.0  0.0  0.0\n",
       " 0.0  0.0  0.0  0.0  0.0  1.0  0.0  1.0     0.0  0.0  0.0  0.0  0.0  0.0  0.0\n",
       " 0.0  0.0  0.0  0.0  0.0  1.0  0.0  0.0     0.0  0.0  0.0  0.0  0.0  0.0  0.0\n",
       " ⋮                        ⋮              ⋱                      ⋮         \n",
       " 0.0  0.0  0.0  0.0  0.0  1.0  0.0  0.0     0.0  0.0  0.0  0.0  0.0  0.0  0.0\n",
       " 0.0  0.0  0.0  0.0  0.0  1.0  0.0  0.0     0.0  0.0  0.0  0.0  0.0  0.0  0.0\n",
       " 0.0  0.0  0.0  0.0  0.0  1.0  0.0  0.0  …  0.0  0.0  0.0  0.0  0.0  0.0  0.0\n",
       " 0.0  0.0  0.0  0.0  0.0  1.0  0.0  1.0     0.0  0.0  0.0  0.0  0.0  0.0  0.0\n",
       " 0.0  0.0  0.0  0.0  0.0  1.0  0.0  0.0     0.0  0.0  0.0  0.0  0.0  0.0  0.0\n",
       " 0.0  0.0  0.0  0.0  0.0  1.0  0.0  0.0     0.0  0.0  0.0  0.0  0.0  0.0  0.0\n",
       " 0.0  0.0  0.0  0.0  0.0  1.0  0.0  0.0     1.0  0.0  0.0  0.0  0.0  0.0  0.0\n",
       " 0.0  0.0  0.0  0.0  0.0  1.0  0.0  0.0  …  0.0  1.0  0.0  0.0  0.0  0.0  0.0\n",
       " 0.0  0.0  0.0  0.0  0.0  1.0  0.0  0.0     0.0  0.0  1.0  0.0  0.0  0.0  0.0\n",
       " 0.0  0.0  0.0  0.0  0.0  1.0  0.0  0.0     0.0  0.0  0.0  1.0  0.0  0.0  0.0\n",
       " 0.0  0.0  0.0  0.0  0.0  1.0  0.0  0.0     0.0  0.0  0.0  0.0  1.0  0.0  0.0\n",
       " 0.0  0.0  0.0  0.0  0.0  1.0  0.0  1.0     0.0  0.0  0.0  0.0  0.0  1.0  0.0"
      ]
     },
     "execution_count": 19,
     "metadata": {},
     "output_type": "execute_result"
    }
   ],
   "source": [
    "key = 1 .- Matrix(I,N,N);\n",
    "key = reshape(key,N*N,1);\n",
    "key = vec(key);\n",
    "X = rhs[setdiff(1:end, findall(key.==0)), :]"
   ]
  },
  {
   "cell_type": "code",
   "execution_count": 20,
   "id": "virgin-digit",
   "metadata": {},
   "outputs": [],
   "source": [
    "X = repeat(X,1,1,T);\n",
    "Y = lhs1;"
   ]
  },
  {
   "cell_type": "code",
   "execution_count": 21,
   "id": "weekly-channels",
   "metadata": {},
   "outputs": [
    {
     "data": {
      "text/plain": [
       "(1560, 1, 20)"
      ]
     },
     "execution_count": 21,
     "metadata": {},
     "output_type": "execute_result"
    }
   ],
   "source": [
    "size(Y)"
   ]
  },
  {
   "cell_type": "code",
   "execution_count": 22,
   "id": "optimum-consistency",
   "metadata": {},
   "outputs": [
    {
     "data": {
      "text/plain": [
       "(1560, 88, 20)"
      ]
     },
     "execution_count": 22,
     "metadata": {},
     "output_type": "execute_result"
    }
   ],
   "source": [
    "size(X)"
   ]
  },
  {
   "cell_type": "code",
   "execution_count": 23,
   "id": "aboriginal-incentive",
   "metadata": {},
   "outputs": [
    {
     "data": {
      "text/plain": [
       "88×1 Matrix{Float64}:\n",
       "  -6.362861341263926\n",
       "  -7.150130339957294\n",
       "  -7.804637329623407\n",
       "  -8.332756519989426\n",
       "  -9.244830138087991\n",
       " -10.191837893354396\n",
       "   0.6677127267397528\n",
       "   0.4507469303508632\n",
       "   1.1646269463961083\n",
       "   1.2746714218911732\n",
       "   0.6862673461055508\n",
       "   1.6474884434655612\n",
       "   1.885060258801797\n",
       "   ⋮\n",
       "   3.2514500911948874\n",
       "   1.4114045418634131\n",
       "   2.0848173278900566\n",
       "   2.1027976565250746\n",
       "   1.7681526983284592\n",
       "   1.4324656905507163\n",
       "   3.4998382920125604\n",
       "   2.7975610000700466\n",
       "   1.8335870209406924\n",
       "   1.7683588535990915\n",
       "   1.4748650793012121\n",
       "   2.8352152568156788"
      ]
     },
     "execution_count": 23,
     "metadata": {},
     "output_type": "execute_result"
    }
   ],
   "source": [
    "(X[:,:,17]'*X[:,:,17])\\X[:,:,17]'*Y[:,:,17]"
   ]
  },
  {
   "cell_type": "code",
   "execution_count": 24,
   "id": "bibliographic-example",
   "metadata": {},
   "outputs": [],
   "source": [
    "coe = Array{Float64,2}(undef,N+N+8,T)\n",
    "for t in 1:T\n",
    "    coe[:, t] = (X[:,:,t]'*X[:,:,t])\\X[:,:,t]'*Y[:,:,t]\n",
    "end"
   ]
  },
  {
   "cell_type": "markdown",
   "id": "nuclear-quest",
   "metadata": {},
   "source": [
    "coe is 88 * 20 coefficients matrix, each row represent a variable, and each column represent a time period.\\\n",
    "row 1 to 8 : coefficients for geographical variables\\\n",
    "row 9 to 48: $F_{i}$ \\\n",
    "row 49 to 88: $-F_{n}$ \\\n",
    "Recall that $F_{n} = F_{i} + \\theta e_{i}$ which implies $e_{i} = \\frac{F_{i} - F_{n}}{-\\theta}$. Also for other geographical varialbes, we can backout $\\beta$s once we know the $\\theta$. Here, we will assume $\\theta = 4$ which is the trade elasticity"
   ]
  },
  {
   "cell_type": "code",
   "execution_count": 54,
   "id": "mathematical-sydney",
   "metadata": {},
   "outputs": [],
   "source": [
    "# pull out the geographical coefficients\n",
    "geo_coe = coe[1:8, :];\n",
    "# pull out F_{i}\n",
    "fe_i = coe[9:9+N-1, :];\n",
    "# pull out -F_{n}\n",
    "negative_fe_n = coe[9+N:end, :];"
   ]
  },
  {
   "cell_type": "code",
   "execution_count": 55,
   "id": "working-effort",
   "metadata": {},
   "outputs": [],
   "source": [
    "theta = 4.0;"
   ]
  },
  {
   "cell_type": "code",
   "execution_count": 56,
   "id": "satellite-rover",
   "metadata": {},
   "outputs": [
    {
     "data": {
      "text/plain": [
       "8×20 Matrix{Float64}:\n",
       "  2.79698     2.14447     2.02369    …   1.5869     1.56907     1.47493\n",
       "  3.04595     2.40623     2.26787        1.78293    1.75893     1.66338\n",
       "  3.33109     2.5544      2.41437        1.94678    1.92402     1.82687\n",
       "  3.36689     2.68764     2.54263        2.07399    2.05504     1.95785\n",
       "  3.65131     2.92824     2.78159        2.27736    2.26571     2.16117\n",
       "  3.99162     3.17993     3.01527    …   2.53437    2.51349     2.40053\n",
       "  0.0855308  -0.184674   -0.180701      -0.167523  -0.164708   -0.157798\n",
       " -0.178325   -0.0973214  -0.0985794     -0.108584  -0.0977384  -0.0938615"
      ]
     },
     "execution_count": 56,
     "metadata": {},
     "output_type": "execute_result"
    }
   ],
   "source": [
    "# lets first backout betas\n",
    "geo_coe1 = geo_coe./-theta"
   ]
  },
  {
   "cell_type": "code",
   "execution_count": 57,
   "id": "super-pasta",
   "metadata": {},
   "outputs": [
    {
     "data": {
      "text/plain": [
       "40×20 Matrix{Float64}:\n",
       " -2.04562   -1.20668   -1.05892   …  -0.587418  -0.563683  -0.391172\n",
       " -2.357     -1.46237   -1.30466      -0.743256  -0.699729  -0.58861\n",
       " -1.9926    -1.07793   -0.956139     -0.541651  -0.51527   -0.415988\n",
       " -2.55252   -1.76765   -1.63594      -1.52886   -1.38043   -1.25867\n",
       " -2.55555   -1.64817   -1.48353      -0.893768  -0.87646   -0.758201\n",
       " -2.0801    -1.31152   -1.18447   …  -0.815746  -0.747928  -0.646672\n",
       " -1.07165   -1.30141   -1.1464       -0.828215  -0.803964  -0.667944\n",
       " -2.7077    -1.75628   -1.58358      -1.63052   -1.58505   -1.43485\n",
       " -1.89586   -1.0638    -0.852189     -0.36791   -0.394261  -0.265394\n",
       " -1.85136   -0.882102  -0.892034     -0.978464  -1.05186   -0.996395\n",
       " -2.74893   -1.80308   -1.67942   …  -1.28438   -1.24713   -1.15255\n",
       " -2.14243   -1.24792   -1.1526       -0.665417  -0.628092  -0.519744\n",
       " -2.20268   -1.39685   -1.26204      -0.844315  -0.883627  -0.78274\n",
       "  ⋮                               ⋱                        \n",
       " -2.50262   -1.70289   -1.50821      -1.32564   -1.28119   -1.11939\n",
       " -2.09886   -1.18165   -1.03372      -0.464265  -0.442389  -0.340983\n",
       " -1.9069    -1.0486    -0.976024  …  -0.462986  -0.465183  -0.345814\n",
       " -1.85268   -0.972852  -0.828965     -0.809072  -0.799752  -0.730179\n",
       " -1.90959   -1.08329   -0.922835     -0.453212  -0.448199  -0.376432\n",
       " -0.743772  -1.41311   -1.27369      -0.863321  -0.793126  -0.61539\n",
       "  0.11214   -0.579839  -0.452094     -0.856923  -0.767917  -0.711853\n",
       " -1.57533   -0.728032  -0.622527  …  -0.436167  -0.431517  -0.345084\n",
       " -2.32767   -1.4943    -1.34829      -0.733761  -0.706089  -0.602583\n",
       " -1.81691   -1.02726   -0.766018     -0.689086  -0.628682  -0.526001\n",
       " -2.96466   -2.05158   -1.88816      -1.32741   -1.32377   -1.19303\n",
       " -1.20001   -1.5264    -1.39912      -1.08833   -1.03995   -0.946998"
      ]
     },
     "execution_count": 57,
     "metadata": {},
     "output_type": "execute_result"
    }
   ],
   "source": [
    "# lets backout exporter fix effects\n",
    "exporterfe = (fe_i .+ negative_fe_n)./-theta"
   ]
  },
  {
   "cell_type": "code",
   "execution_count": 79,
   "id": "banned-danish",
   "metadata": {},
   "outputs": [],
   "source": [
    "geo_mat = [dist1 dist2 dist3 dist4 dist5 dist6 contig lang]\n",
    "geo_mat = repeat(geo_mat, 1,1,T);"
   ]
  },
  {
   "cell_type": "code",
   "execution_count": 75,
   "id": "subjective-seeking",
   "metadata": {},
   "outputs": [],
   "source": [
    "geo_coe_mat = reshape(repeat(geo_coe1, inner = [1600 1]),N*N, 8, T);\n",
    "geo_tau = geo_coe_mat .* geo_mat;\n",
    "geo_tau = sum(geo_tau, dims=2);"
   ]
  },
  {
   "cell_type": "code",
   "execution_count": 80,
   "id": "independent-command",
   "metadata": {},
   "outputs": [
    {
     "ename": "LoadError",
     "evalue": "ArgumentError: dropped dims must all be size 1",
     "output_type": "error",
     "traceback": [
      "ArgumentError: dropped dims must all be size 1",
      "",
      "Stacktrace:",
      " [1] _dropdims(A::Array{Float64, 3}, dims::Tuple{Int64})",
      "   @ Base .\\abstractarraymath.jl:86",
      " [2] _dropdims",
      "   @ .\\abstractarraymath.jl:94 [inlined]",
      " [3] #dropdims#221",
      "   @ .\\abstractarraymath.jl:82 [inlined]",
      " [4] top-level scope",
      "   @ In[80]:1",
      " [5] eval",
      "   @ .\\boot.jl:373 [inlined]",
      " [6] include_string(mapexpr::typeof(REPL.softscope), mod::Module, code::String, filename::String)",
      "   @ Base .\\loading.jl:1196"
     ]
    }
   ],
   "source": [
    "geo_tau = reshape(dropdims(geo_tau, dims = 2 ), N,N,T);"
   ]
  },
  {
   "cell_type": "code",
   "execution_count": 81,
   "id": "accompanied-feeling",
   "metadata": {},
   "outputs": [
    {
     "data": {
      "text/plain": [
       "(40, 40, 20)"
      ]
     },
     "execution_count": 81,
     "metadata": {},
     "output_type": "execute_result"
    }
   ],
   "source": [
    "size(geo_tau)"
   ]
  },
  {
   "cell_type": "code",
   "execution_count": 86,
   "id": "constant-third",
   "metadata": {},
   "outputs": [],
   "source": [
    "size(exporterfe);\n",
    "exporter_mat = repeat(exporterfe, inner = [40 1]);\n",
    "exporter_matfe = reshape(exporter_mat, N,N,T);"
   ]
  },
  {
   "cell_type": "code",
   "execution_count": 89,
   "id": "collaborative-strand",
   "metadata": {},
   "outputs": [],
   "source": [
    "log_tau = Array{Float64, 3}(undef,N,N,T);\n",
    "log_tau = geo_tau .+ exporter_matfe;\n",
    "tau = exp.(log_tau);"
   ]
  },
  {
   "cell_type": "markdown",
   "id": "optimum-swaziland",
   "metadata": {},
   "source": [
    "Final step, we make the diagonal of matrix equals to 1 since $n = i$, and if off-diagonal entries smaller 1 we will make it be 1 as well ."
   ]
  },
  {
   "cell_type": "code",
   "execution_count": 95,
   "id": "circular-devices",
   "metadata": {},
   "outputs": [],
   "source": [
    "for n in 1:N\n",
    "    for i in 1:N\n",
    "        for t in 1:T\n",
    "            tau[n,n,t] = 1.0            \n",
    "            if tau[n,i,t] < 1.0\n",
    "                    tau[n,i,t] = 1.0\n",
    "            end\n",
    "        end\n",
    "    end\n",
    "end"
   ]
  },
  {
   "cell_type": "code",
   "execution_count": 101,
   "id": "cognitive-fever",
   "metadata": {},
   "outputs": [
    {
     "data": {
      "text/plain": [
       "20-element Vector{Float64}:\n",
       " 4.626347811691856\n",
       " 4.9353605622664976\n",
       " 4.881249666069414\n",
       " 4.838833153996429\n",
       " 4.575947863103325\n",
       " 4.5784850643009305\n",
       " 4.477946779657679\n",
       " 4.6559202086686335\n",
       " 4.593165145564775\n",
       " 4.480191251119425\n",
       " 4.323643015969896\n",
       " 4.1821494450767105\n",
       " 4.1576108641205884\n",
       " 4.524898100618587\n",
       " 4.45129010569917\n",
       " 4.196852772309914\n",
       " 4.191708907126747\n",
       " 4.246266329352597\n",
       " 4.313017323340219\n",
       " 4.2781880411408455"
      ]
     },
     "execution_count": 101,
     "metadata": {},
     "output_type": "execute_result"
    }
   ],
   "source": [
    "tau_year = Array{Float64,1}(undef, T);\n",
    "for t in 1:T\n",
    "    tau_year[t] = median(tau[:,:,t])\n",
    "end\n",
    "tau_year"
   ]
  },
  {
   "cell_type": "markdown",
   "id": "suburban-biography",
   "metadata": {},
   "source": [
    "We can plot median of trade cost $\\tau$ from 2005 to 2016. Overall, the trade cost falls over time."
   ]
  },
  {
   "cell_type": "code",
   "execution_count": 104,
   "id": "elegant-coordinate",
   "metadata": {},
   "outputs": [
    {
     "data": {
      "image/svg+xml": [
       "<?xml version=\"1.0\" encoding=\"utf-8\"?>\n",
       "<svg xmlns=\"http://www.w3.org/2000/svg\" xmlns:xlink=\"http://www.w3.org/1999/xlink\" width=\"600\" height=\"400\" viewBox=\"0 0 2400 1600\">\n",
       "<defs>\n",
       "  <clipPath id=\"clip330\">\n",
       "    <rect x=\"0\" y=\"0\" width=\"2400\" height=\"1600\"/>\n",
       "  </clipPath>\n",
       "</defs>\n",
       "<path clip-path=\"url(#clip330)\" d=\"\n",
       "M0 1600 L2400 1600 L2400 0 L0 0  Z\n",
       "  \" fill=\"#ffffff\" fill-rule=\"evenodd\" fill-opacity=\"1\"/>\n",
       "<defs>\n",
       "  <clipPath id=\"clip331\">\n",
       "    <rect x=\"480\" y=\"0\" width=\"1681\" height=\"1600\"/>\n",
       "  </clipPath>\n",
       "</defs>\n",
       "<path clip-path=\"url(#clip330)\" d=\"\n",
       "M157.408 1486.45 L2352.76 1486.45 L2352.76 47.2441 L157.408 47.2441  Z\n",
       "  \" fill=\"#ffffff\" fill-rule=\"evenodd\" fill-opacity=\"1\"/>\n",
       "<defs>\n",
       "  <clipPath id=\"clip332\">\n",
       "    <rect x=\"157\" y=\"47\" width=\"2196\" height=\"1440\"/>\n",
       "  </clipPath>\n",
       "</defs>\n",
       "<polyline clip-path=\"url(#clip332)\" style=\"stroke:#000000; stroke-linecap:butt; stroke-linejoin:round; stroke-width:2; stroke-opacity:0.1; fill:none\" points=\"\n",
       "  655.558,1486.45 655.558,47.2441 \n",
       "  \"/>\n",
       "<polyline clip-path=\"url(#clip332)\" style=\"stroke:#000000; stroke-linecap:butt; stroke-linejoin:round; stroke-width:2; stroke-opacity:0.1; fill:none\" points=\"\n",
       "  1200.58,1486.45 1200.58,47.2441 \n",
       "  \"/>\n",
       "<polyline clip-path=\"url(#clip332)\" style=\"stroke:#000000; stroke-linecap:butt; stroke-linejoin:round; stroke-width:2; stroke-opacity:0.1; fill:none\" points=\"\n",
       "  1745.6,1486.45 1745.6,47.2441 \n",
       "  \"/>\n",
       "<polyline clip-path=\"url(#clip332)\" style=\"stroke:#000000; stroke-linecap:butt; stroke-linejoin:round; stroke-width:2; stroke-opacity:0.1; fill:none\" points=\"\n",
       "  2290.62,1486.45 2290.62,47.2441 \n",
       "  \"/>\n",
       "<polyline clip-path=\"url(#clip330)\" style=\"stroke:#000000; stroke-linecap:butt; stroke-linejoin:round; stroke-width:4; stroke-opacity:1; fill:none\" points=\"\n",
       "  157.408,1486.45 2352.76,1486.45 \n",
       "  \"/>\n",
       "<polyline clip-path=\"url(#clip330)\" style=\"stroke:#000000; stroke-linecap:butt; stroke-linejoin:round; stroke-width:4; stroke-opacity:1; fill:none\" points=\"\n",
       "  655.558,1486.45 655.558,1467.55 \n",
       "  \"/>\n",
       "<polyline clip-path=\"url(#clip330)\" style=\"stroke:#000000; stroke-linecap:butt; stroke-linejoin:round; stroke-width:4; stroke-opacity:1; fill:none\" points=\"\n",
       "  1200.58,1486.45 1200.58,1467.55 \n",
       "  \"/>\n",
       "<polyline clip-path=\"url(#clip330)\" style=\"stroke:#000000; stroke-linecap:butt; stroke-linejoin:round; stroke-width:4; stroke-opacity:1; fill:none\" points=\"\n",
       "  1745.6,1486.45 1745.6,1467.55 \n",
       "  \"/>\n",
       "<polyline clip-path=\"url(#clip330)\" style=\"stroke:#000000; stroke-linecap:butt; stroke-linejoin:round; stroke-width:4; stroke-opacity:1; fill:none\" points=\"\n",
       "  2290.62,1486.45 2290.62,1467.55 \n",
       "  \"/>\n",
       "<path clip-path=\"url(#clip330)\" d=\"M604.17 1544.91 L620.489 1544.91 L620.489 1548.85 L598.545 1548.85 L598.545 1544.91 Q601.207 1542.16 605.79 1537.53 Q610.396 1532.88 611.577 1531.53 Q613.822 1529.01 614.702 1527.27 Q615.605 1525.51 615.605 1523.82 Q615.605 1521.07 613.66 1519.33 Q611.739 1517.6 608.637 1517.6 Q606.438 1517.6 603.984 1518.36 Q601.554 1519.13 598.776 1520.68 L598.776 1515.95 Q601.6 1514.82 604.054 1514.24 Q606.508 1513.66 608.545 1513.66 Q613.915 1513.66 617.109 1516.35 Q620.304 1519.03 620.304 1523.52 Q620.304 1525.65 619.494 1527.57 Q618.707 1529.47 616.6 1532.07 Q616.021 1532.74 612.92 1535.95 Q609.818 1539.15 604.17 1544.91 Z\" fill=\"#000000\" fill-rule=\"evenodd\" fill-opacity=\"1\" /><path clip-path=\"url(#clip330)\" d=\"M640.304 1517.37 Q636.693 1517.37 634.864 1520.93 Q633.058 1524.47 633.058 1531.6 Q633.058 1538.71 634.864 1542.27 Q636.693 1545.82 640.304 1545.82 Q643.938 1545.82 645.744 1542.27 Q647.572 1538.71 647.572 1531.6 Q647.572 1524.47 645.744 1520.93 Q643.938 1517.37 640.304 1517.37 M640.304 1513.66 Q646.114 1513.66 649.169 1518.27 Q652.248 1522.85 652.248 1531.6 Q652.248 1540.33 649.169 1544.94 Q646.114 1549.52 640.304 1549.52 Q634.494 1549.52 631.415 1544.94 Q628.359 1540.33 628.359 1531.6 Q628.359 1522.85 631.415 1518.27 Q634.494 1513.66 640.304 1513.66 Z\" fill=\"#000000\" fill-rule=\"evenodd\" fill-opacity=\"1\" /><path clip-path=\"url(#clip330)\" d=\"M670.466 1517.37 Q666.855 1517.37 665.026 1520.93 Q663.22 1524.47 663.22 1531.6 Q663.22 1538.71 665.026 1542.27 Q666.855 1545.82 670.466 1545.82 Q674.1 1545.82 675.905 1542.27 Q677.734 1538.71 677.734 1531.6 Q677.734 1524.47 675.905 1520.93 Q674.1 1517.37 670.466 1517.37 M670.466 1513.66 Q676.276 1513.66 679.331 1518.27 Q682.41 1522.85 682.41 1531.6 Q682.41 1540.33 679.331 1544.94 Q676.276 1549.52 670.466 1549.52 Q664.655 1549.52 661.577 1544.94 Q658.521 1540.33 658.521 1531.6 Q658.521 1522.85 661.577 1518.27 Q664.655 1513.66 670.466 1513.66 Z\" fill=\"#000000\" fill-rule=\"evenodd\" fill-opacity=\"1\" /><path clip-path=\"url(#clip330)\" d=\"M700.627 1517.37 Q697.016 1517.37 695.188 1520.93 Q693.382 1524.47 693.382 1531.6 Q693.382 1538.71 695.188 1542.27 Q697.016 1545.82 700.627 1545.82 Q704.262 1545.82 706.067 1542.27 Q707.896 1538.71 707.896 1531.6 Q707.896 1524.47 706.067 1520.93 Q704.262 1517.37 700.627 1517.37 M700.627 1513.66 Q706.438 1513.66 709.493 1518.27 Q712.572 1522.85 712.572 1531.6 Q712.572 1540.33 709.493 1544.94 Q706.438 1549.52 700.627 1549.52 Q694.817 1549.52 691.739 1544.94 Q688.683 1540.33 688.683 1531.6 Q688.683 1522.85 691.739 1518.27 Q694.817 1513.66 700.627 1513.66 Z\" fill=\"#000000\" fill-rule=\"evenodd\" fill-opacity=\"1\" /><path clip-path=\"url(#clip330)\" d=\"M1149.69 1544.91 L1166.01 1544.91 L1166.01 1548.85 L1144.06 1548.85 L1144.06 1544.91 Q1146.73 1542.16 1151.31 1537.53 Q1155.92 1532.88 1157.1 1531.53 Q1159.34 1529.01 1160.22 1527.27 Q1161.12 1525.51 1161.12 1523.82 Q1161.12 1521.07 1159.18 1519.33 Q1157.26 1517.6 1154.16 1517.6 Q1151.96 1517.6 1149.5 1518.36 Q1147.07 1519.13 1144.3 1520.68 L1144.3 1515.95 Q1147.12 1514.82 1149.57 1514.24 Q1152.03 1513.66 1154.06 1513.66 Q1159.43 1513.66 1162.63 1516.35 Q1165.82 1519.03 1165.82 1523.52 Q1165.82 1525.65 1165.01 1527.57 Q1164.23 1529.47 1162.12 1532.07 Q1161.54 1532.74 1158.44 1535.95 Q1155.34 1539.15 1149.69 1544.91 Z\" fill=\"#000000\" fill-rule=\"evenodd\" fill-opacity=\"1\" /><path clip-path=\"url(#clip330)\" d=\"M1185.82 1517.37 Q1182.21 1517.37 1180.38 1520.93 Q1178.58 1524.47 1178.58 1531.6 Q1178.58 1538.71 1180.38 1542.27 Q1182.21 1545.82 1185.82 1545.82 Q1189.46 1545.82 1191.26 1542.27 Q1193.09 1538.71 1193.09 1531.6 Q1193.09 1524.47 1191.26 1520.93 Q1189.46 1517.37 1185.82 1517.37 M1185.82 1513.66 Q1191.63 1513.66 1194.69 1518.27 Q1197.77 1522.85 1197.77 1531.6 Q1197.77 1540.33 1194.69 1544.94 Q1191.63 1549.52 1185.82 1549.52 Q1180.01 1549.52 1176.93 1544.94 Q1173.88 1540.33 1173.88 1531.6 Q1173.88 1522.85 1176.93 1518.27 Q1180.01 1513.66 1185.82 1513.66 Z\" fill=\"#000000\" fill-rule=\"evenodd\" fill-opacity=\"1\" /><path clip-path=\"url(#clip330)\" d=\"M1215.98 1517.37 Q1212.37 1517.37 1210.55 1520.93 Q1208.74 1524.47 1208.74 1531.6 Q1208.74 1538.71 1210.55 1542.27 Q1212.37 1545.82 1215.98 1545.82 Q1219.62 1545.82 1221.42 1542.27 Q1223.25 1538.71 1223.25 1531.6 Q1223.25 1524.47 1221.42 1520.93 Q1219.62 1517.37 1215.98 1517.37 M1215.98 1513.66 Q1221.8 1513.66 1224.85 1518.27 Q1227.93 1522.85 1227.93 1531.6 Q1227.93 1540.33 1224.85 1544.94 Q1221.8 1549.52 1215.98 1549.52 Q1210.17 1549.52 1207.1 1544.94 Q1204.04 1540.33 1204.04 1531.6 Q1204.04 1522.85 1207.1 1518.27 Q1210.17 1513.66 1215.98 1513.66 Z\" fill=\"#000000\" fill-rule=\"evenodd\" fill-opacity=\"1\" /><path clip-path=\"url(#clip330)\" d=\"M1236.19 1514.29 L1254.55 1514.29 L1254.55 1518.22 L1240.48 1518.22 L1240.48 1526.7 Q1241.49 1526.35 1242.51 1526.19 Q1243.53 1526 1244.55 1526 Q1250.34 1526 1253.72 1529.17 Q1257.1 1532.34 1257.1 1537.76 Q1257.1 1543.34 1253.62 1546.44 Q1250.15 1549.52 1243.83 1549.52 Q1241.66 1549.52 1239.39 1549.15 Q1237.14 1548.78 1234.73 1548.04 L1234.73 1543.34 Q1236.82 1544.47 1239.04 1545.03 Q1241.26 1545.58 1243.74 1545.58 Q1247.74 1545.58 1250.08 1543.48 Q1252.42 1541.37 1252.42 1537.76 Q1252.42 1534.15 1250.08 1532.04 Q1247.74 1529.94 1243.74 1529.94 Q1241.86 1529.94 1239.99 1530.35 Q1238.14 1530.77 1236.19 1531.65 L1236.19 1514.29 Z\" fill=\"#000000\" fill-rule=\"evenodd\" fill-opacity=\"1\" /><path clip-path=\"url(#clip330)\" d=\"M1694.21 1544.91 L1710.53 1544.91 L1710.53 1548.85 L1688.59 1548.85 L1688.59 1544.91 Q1691.25 1542.16 1695.83 1537.53 Q1700.44 1532.88 1701.62 1531.53 Q1703.87 1529.01 1704.75 1527.27 Q1705.65 1525.51 1705.65 1523.82 Q1705.65 1521.07 1703.7 1519.33 Q1701.78 1517.6 1698.68 1517.6 Q1696.48 1517.6 1694.03 1518.36 Q1691.6 1519.13 1688.82 1520.68 L1688.82 1515.95 Q1691.64 1514.82 1694.1 1514.24 Q1696.55 1513.66 1698.59 1513.66 Q1703.96 1513.66 1707.15 1516.35 Q1710.35 1519.03 1710.35 1523.52 Q1710.35 1525.65 1709.54 1527.57 Q1708.75 1529.47 1706.64 1532.07 Q1706.06 1532.74 1702.96 1535.95 Q1699.86 1539.15 1694.21 1544.91 Z\" fill=\"#000000\" fill-rule=\"evenodd\" fill-opacity=\"1\" /><path clip-path=\"url(#clip330)\" d=\"M1730.35 1517.37 Q1726.74 1517.37 1724.91 1520.93 Q1723.1 1524.47 1723.1 1531.6 Q1723.1 1538.71 1724.91 1542.27 Q1726.74 1545.82 1730.35 1545.82 Q1733.98 1545.82 1735.79 1542.27 Q1737.62 1538.71 1737.62 1531.6 Q1737.62 1524.47 1735.79 1520.93 Q1733.98 1517.37 1730.35 1517.37 M1730.35 1513.66 Q1736.16 1513.66 1739.21 1518.27 Q1742.29 1522.85 1742.29 1531.6 Q1742.29 1540.33 1739.21 1544.94 Q1736.16 1549.52 1730.35 1549.52 Q1724.54 1549.52 1721.46 1544.94 Q1718.4 1540.33 1718.4 1531.6 Q1718.4 1522.85 1721.46 1518.27 Q1724.54 1513.66 1730.35 1513.66 Z\" fill=\"#000000\" fill-rule=\"evenodd\" fill-opacity=\"1\" /><path clip-path=\"url(#clip330)\" d=\"M1751.32 1544.91 L1758.96 1544.91 L1758.96 1518.55 L1750.65 1520.21 L1750.65 1515.95 L1758.91 1514.29 L1763.59 1514.29 L1763.59 1544.91 L1771.23 1544.91 L1771.23 1548.85 L1751.32 1548.85 L1751.32 1544.91 Z\" fill=\"#000000\" fill-rule=\"evenodd\" fill-opacity=\"1\" /><path clip-path=\"url(#clip330)\" d=\"M1790.67 1517.37 Q1787.06 1517.37 1785.23 1520.93 Q1783.43 1524.47 1783.43 1531.6 Q1783.43 1538.71 1785.23 1542.27 Q1787.06 1545.82 1790.67 1545.82 Q1794.31 1545.82 1796.11 1542.27 Q1797.94 1538.71 1797.94 1531.6 Q1797.94 1524.47 1796.11 1520.93 Q1794.31 1517.37 1790.67 1517.37 M1790.67 1513.66 Q1796.48 1513.66 1799.54 1518.27 Q1802.62 1522.85 1802.62 1531.6 Q1802.62 1540.33 1799.54 1544.94 Q1796.48 1549.52 1790.67 1549.52 Q1784.86 1549.52 1781.78 1544.94 Q1778.73 1540.33 1778.73 1531.6 Q1778.73 1522.85 1781.78 1518.27 Q1784.86 1513.66 1790.67 1513.66 Z\" fill=\"#000000\" fill-rule=\"evenodd\" fill-opacity=\"1\" /><path clip-path=\"url(#clip330)\" d=\"M2239.73 1544.91 L2256.05 1544.91 L2256.05 1548.85 L2234.11 1548.85 L2234.11 1544.91 Q2236.77 1542.16 2241.35 1537.53 Q2245.96 1532.88 2247.14 1531.53 Q2249.39 1529.01 2250.26 1527.27 Q2251.17 1525.51 2251.17 1523.82 Q2251.17 1521.07 2249.22 1519.33 Q2247.3 1517.6 2244.2 1517.6 Q2242 1517.6 2239.55 1518.36 Q2237.12 1519.13 2234.34 1520.68 L2234.34 1515.95 Q2237.16 1514.82 2239.62 1514.24 Q2242.07 1513.66 2244.11 1513.66 Q2249.48 1513.66 2252.67 1516.35 Q2255.87 1519.03 2255.87 1523.52 Q2255.87 1525.65 2255.06 1527.57 Q2254.27 1529.47 2252.16 1532.07 Q2251.58 1532.74 2248.48 1535.95 Q2245.38 1539.15 2239.73 1544.91 Z\" fill=\"#000000\" fill-rule=\"evenodd\" fill-opacity=\"1\" /><path clip-path=\"url(#clip330)\" d=\"M2275.87 1517.37 Q2272.26 1517.37 2270.43 1520.93 Q2268.62 1524.47 2268.62 1531.6 Q2268.62 1538.71 2270.43 1542.27 Q2272.26 1545.82 2275.87 1545.82 Q2279.5 1545.82 2281.31 1542.27 Q2283.14 1538.71 2283.14 1531.6 Q2283.14 1524.47 2281.31 1520.93 Q2279.5 1517.37 2275.87 1517.37 M2275.87 1513.66 Q2281.68 1513.66 2284.73 1518.27 Q2287.81 1522.85 2287.81 1531.6 Q2287.81 1540.33 2284.73 1544.94 Q2281.68 1549.52 2275.87 1549.52 Q2270.06 1549.52 2266.98 1544.94 Q2263.92 1540.33 2263.92 1531.6 Q2263.92 1522.85 2266.98 1518.27 Q2270.06 1513.66 2275.87 1513.66 Z\" fill=\"#000000\" fill-rule=\"evenodd\" fill-opacity=\"1\" /><path clip-path=\"url(#clip330)\" d=\"M2296.84 1544.91 L2304.48 1544.91 L2304.48 1518.55 L2296.17 1520.21 L2296.17 1515.95 L2304.43 1514.29 L2309.11 1514.29 L2309.11 1544.91 L2316.75 1544.91 L2316.75 1548.85 L2296.84 1548.85 L2296.84 1544.91 Z\" fill=\"#000000\" fill-rule=\"evenodd\" fill-opacity=\"1\" /><path clip-path=\"url(#clip330)\" d=\"M2326.24 1514.29 L2344.59 1514.29 L2344.59 1518.22 L2330.52 1518.22 L2330.52 1526.7 Q2331.54 1526.35 2332.56 1526.19 Q2333.57 1526 2334.59 1526 Q2340.38 1526 2343.76 1529.17 Q2347.14 1532.34 2347.14 1537.76 Q2347.14 1543.34 2343.67 1546.44 Q2340.19 1549.52 2333.88 1549.52 Q2331.7 1549.52 2329.43 1549.15 Q2327.19 1548.78 2324.78 1548.04 L2324.78 1543.34 Q2326.86 1544.47 2329.08 1545.03 Q2331.31 1545.58 2333.78 1545.58 Q2337.79 1545.58 2340.13 1543.48 Q2342.46 1541.37 2342.46 1537.76 Q2342.46 1534.15 2340.13 1532.04 Q2337.79 1529.94 2333.78 1529.94 Q2331.91 1529.94 2330.03 1530.35 Q2328.18 1530.77 2326.24 1531.65 L2326.24 1514.29 Z\" fill=\"#000000\" fill-rule=\"evenodd\" fill-opacity=\"1\" /><polyline clip-path=\"url(#clip332)\" style=\"stroke:#000000; stroke-linecap:butt; stroke-linejoin:round; stroke-width:2; stroke-opacity:0.1; fill:none\" points=\"\n",
       "  157.408,1371.72 2352.76,1371.72 \n",
       "  \"/>\n",
       "<polyline clip-path=\"url(#clip332)\" style=\"stroke:#000000; stroke-linecap:butt; stroke-linejoin:round; stroke-width:2; stroke-opacity:0.1; fill:none\" points=\"\n",
       "  157.408,1022.57 2352.76,1022.57 \n",
       "  \"/>\n",
       "<polyline clip-path=\"url(#clip332)\" style=\"stroke:#000000; stroke-linecap:butt; stroke-linejoin:round; stroke-width:2; stroke-opacity:0.1; fill:none\" points=\"\n",
       "  157.408,673.425 2352.76,673.425 \n",
       "  \"/>\n",
       "<polyline clip-path=\"url(#clip332)\" style=\"stroke:#000000; stroke-linecap:butt; stroke-linejoin:round; stroke-width:2; stroke-opacity:0.1; fill:none\" points=\"\n",
       "  157.408,324.279 2352.76,324.279 \n",
       "  \"/>\n",
       "<polyline clip-path=\"url(#clip330)\" style=\"stroke:#000000; stroke-linecap:butt; stroke-linejoin:round; stroke-width:4; stroke-opacity:1; fill:none\" points=\"\n",
       "  157.408,1486.45 157.408,47.2441 \n",
       "  \"/>\n",
       "<polyline clip-path=\"url(#clip330)\" style=\"stroke:#000000; stroke-linecap:butt; stroke-linejoin:round; stroke-width:4; stroke-opacity:1; fill:none\" points=\"\n",
       "  157.408,1371.72 176.306,1371.72 \n",
       "  \"/>\n",
       "<polyline clip-path=\"url(#clip330)\" style=\"stroke:#000000; stroke-linecap:butt; stroke-linejoin:round; stroke-width:4; stroke-opacity:1; fill:none\" points=\"\n",
       "  157.408,1022.57 176.306,1022.57 \n",
       "  \"/>\n",
       "<polyline clip-path=\"url(#clip330)\" style=\"stroke:#000000; stroke-linecap:butt; stroke-linejoin:round; stroke-width:4; stroke-opacity:1; fill:none\" points=\"\n",
       "  157.408,673.425 176.306,673.425 \n",
       "  \"/>\n",
       "<polyline clip-path=\"url(#clip330)\" style=\"stroke:#000000; stroke-linecap:butt; stroke-linejoin:round; stroke-width:4; stroke-opacity:1; fill:none\" points=\"\n",
       "  157.408,324.279 176.306,324.279 \n",
       "  \"/>\n",
       "<path clip-path=\"url(#clip330)\" d=\"M68.6772 1358.51 L56.8717 1376.96 L68.6772 1376.96 L68.6772 1358.51 M67.4504 1354.44 L73.33 1354.44 L73.33 1376.96 L78.2605 1376.96 L78.2605 1380.85 L73.33 1380.85 L73.33 1389 L68.6772 1389 L68.6772 1380.85 L53.0754 1380.85 L53.0754 1376.33 L67.4504 1354.44 Z\" fill=\"#000000\" fill-rule=\"evenodd\" fill-opacity=\"1\" /><path clip-path=\"url(#clip330)\" d=\"M85.9919 1383.12 L90.8762 1383.12 L90.8762 1389 L85.9919 1389 L85.9919 1383.12 Z\" fill=\"#000000\" fill-rule=\"evenodd\" fill-opacity=\"1\" /><path clip-path=\"url(#clip330)\" d=\"M105.089 1385.06 L121.408 1385.06 L121.408 1389 L99.4641 1389 L99.4641 1385.06 Q102.126 1382.31 106.709 1377.68 Q111.316 1373.02 112.496 1371.68 Q114.742 1369.16 115.621 1367.42 Q116.524 1365.66 116.524 1363.97 Q116.524 1361.22 114.58 1359.48 Q112.658 1357.75 109.557 1357.75 Q107.358 1357.75 104.904 1358.51 Q102.473 1359.27 99.6956 1360.82 L99.6956 1356.1 Q102.52 1354.97 104.973 1354.39 Q107.427 1353.81 109.464 1353.81 Q114.834 1353.81 118.029 1356.5 Q121.223 1359.18 121.223 1363.67 Q121.223 1365.8 120.413 1367.72 Q119.626 1369.62 117.52 1372.21 Q116.941 1372.88 113.839 1376.1 Q110.737 1379.3 105.089 1385.06 Z\" fill=\"#000000\" fill-rule=\"evenodd\" fill-opacity=\"1\" /><path clip-path=\"url(#clip330)\" d=\"M66.5939 1009.36 L54.7884 1027.81 L66.5939 1027.81 L66.5939 1009.36 M65.367 1005.29 L71.2466 1005.29 L71.2466 1027.81 L76.1772 1027.81 L76.1772 1031.7 L71.2466 1031.7 L71.2466 1039.85 L66.5939 1039.85 L66.5939 1031.7 L50.9921 1031.7 L50.9921 1027.19 L65.367 1005.29 Z\" fill=\"#000000\" fill-rule=\"evenodd\" fill-opacity=\"1\" /><path clip-path=\"url(#clip330)\" d=\"M83.9086 1033.97 L88.7928 1033.97 L88.7928 1039.85 L83.9086 1039.85 L83.9086 1033.97 Z\" fill=\"#000000\" fill-rule=\"evenodd\" fill-opacity=\"1\" /><path clip-path=\"url(#clip330)\" d=\"M111.825 1009.36 L100.02 1027.81 L111.825 1027.81 L111.825 1009.36 M110.598 1005.29 L116.478 1005.29 L116.478 1027.81 L121.408 1027.81 L121.408 1031.7 L116.478 1031.7 L116.478 1039.85 L111.825 1039.85 L111.825 1031.7 L96.2234 1031.7 L96.2234 1027.19 L110.598 1005.29 Z\" fill=\"#000000\" fill-rule=\"evenodd\" fill-opacity=\"1\" /><path clip-path=\"url(#clip330)\" d=\"M66.918 660.219 L55.1125 678.668 L66.918 678.668 L66.918 660.219 M65.6911 656.145 L71.5707 656.145 L71.5707 678.668 L76.5012 678.668 L76.5012 682.556 L71.5707 682.556 L71.5707 690.705 L66.918 690.705 L66.918 682.556 L51.3162 682.556 L51.3162 678.043 L65.6911 656.145 Z\" fill=\"#000000\" fill-rule=\"evenodd\" fill-opacity=\"1\" /><path clip-path=\"url(#clip330)\" d=\"M84.2327 684.825 L89.1169 684.825 L89.1169 690.705 L84.2327 690.705 L84.2327 684.825 Z\" fill=\"#000000\" fill-rule=\"evenodd\" fill-opacity=\"1\" /><path clip-path=\"url(#clip330)\" d=\"M109.881 671.561 Q106.733 671.561 104.881 673.714 Q103.052 675.867 103.052 679.617 Q103.052 683.344 104.881 685.519 Q106.733 687.672 109.881 687.672 Q113.029 687.672 114.858 685.519 Q116.709 683.344 116.709 679.617 Q116.709 675.867 114.858 673.714 Q113.029 671.561 109.881 671.561 M119.163 656.908 L119.163 661.168 Q117.404 660.334 115.598 659.895 Q113.816 659.455 112.057 659.455 Q107.427 659.455 104.973 662.58 Q102.543 665.705 102.196 672.024 Q103.561 670.01 105.621 668.945 Q107.682 667.857 110.158 667.857 Q115.367 667.857 118.376 671.029 Q121.408 674.177 121.408 679.617 Q121.408 684.941 118.26 688.158 Q115.112 691.376 109.881 691.376 Q103.885 691.376 100.714 686.793 Q97.5428 682.186 97.5428 673.459 Q97.5428 665.265 101.432 660.404 Q105.321 655.52 111.871 655.52 Q113.631 655.52 115.413 655.867 Q117.219 656.214 119.163 656.908 Z\" fill=\"#000000\" fill-rule=\"evenodd\" fill-opacity=\"1\" /><path clip-path=\"url(#clip330)\" d=\"M67.1726 311.073 L55.3671 329.522 L67.1726 329.522 L67.1726 311.073 M65.9457 306.999 L71.8253 306.999 L71.8253 329.522 L76.7559 329.522 L76.7559 333.411 L71.8253 333.411 L71.8253 341.559 L67.1726 341.559 L67.1726 333.411 L51.5708 333.411 L51.5708 328.897 L65.9457 306.999 Z\" fill=\"#000000\" fill-rule=\"evenodd\" fill-opacity=\"1\" /><path clip-path=\"url(#clip330)\" d=\"M84.4873 335.679 L89.3715 335.679 L89.3715 341.559 L84.4873 341.559 L84.4873 335.679 Z\" fill=\"#000000\" fill-rule=\"evenodd\" fill-opacity=\"1\" /><path clip-path=\"url(#clip330)\" d=\"M109.557 325.147 Q106.223 325.147 104.302 326.929 Q102.404 328.712 102.404 331.837 Q102.404 334.962 104.302 336.744 Q106.223 338.527 109.557 338.527 Q112.89 338.527 114.811 336.744 Q116.733 334.939 116.733 331.837 Q116.733 328.712 114.811 326.929 Q112.913 325.147 109.557 325.147 M104.881 323.156 Q101.871 322.416 100.182 320.355 Q98.515 318.295 98.515 315.332 Q98.515 311.189 101.455 308.781 Q104.418 306.374 109.557 306.374 Q114.719 306.374 117.658 308.781 Q120.598 311.189 120.598 315.332 Q120.598 318.295 118.908 320.355 Q117.242 322.416 114.256 323.156 Q117.635 323.943 119.51 326.235 Q121.408 328.527 121.408 331.837 Q121.408 336.86 118.33 339.545 Q115.274 342.23 109.557 342.23 Q103.839 342.23 100.76 339.545 Q97.7048 336.86 97.7048 331.837 Q97.7048 328.527 99.603 326.235 Q101.501 323.943 104.881 323.156 M103.168 315.772 Q103.168 318.457 104.834 319.962 Q106.524 321.467 109.557 321.467 Q112.566 321.467 114.256 319.962 Q115.969 318.457 115.969 315.772 Q115.969 313.087 114.256 311.582 Q112.566 310.078 109.557 310.078 Q106.524 310.078 104.834 311.582 Q103.168 313.087 103.168 315.772 Z\" fill=\"#000000\" fill-rule=\"evenodd\" fill-opacity=\"1\" /><polyline clip-path=\"url(#clip332)\" style=\"stroke:#009af9; stroke-linecap:butt; stroke-linejoin:round; stroke-width:4; stroke-opacity:1; fill:none\" points=\"\n",
       "  219.541,627.428 328.545,87.9763 437.55,182.439 546.554,256.487 655.558,715.413 764.563,710.984 873.567,886.496 982.571,575.803 1091.58,685.356 1200.58,882.578 \n",
       "  1309.58,1155.87 1418.59,1402.88 1527.59,1445.72 1636.6,804.532 1745.6,933.032 1854.61,1377.21 1963.61,1386.19 2072.61,1290.95 2181.62,1174.42 2290.62,1235.22 \n",
       "  \n",
       "  \"/>\n",
       "<path clip-path=\"url(#clip330)\" d=\"\n",
       "M1547.74 198.898 L2279.58 198.898 L2279.58 95.2176 L1547.74 95.2176  Z\n",
       "  \" fill=\"#ffffff\" fill-rule=\"evenodd\" fill-opacity=\"1\"/>\n",
       "<polyline clip-path=\"url(#clip330)\" style=\"stroke:#000000; stroke-linecap:butt; stroke-linejoin:round; stroke-width:4; stroke-opacity:1; fill:none\" points=\"\n",
       "  1547.74,198.898 2279.58,198.898 2279.58,95.2176 1547.74,95.2176 1547.74,198.898 \n",
       "  \"/>\n",
       "<polyline clip-path=\"url(#clip330)\" style=\"stroke:#009af9; stroke-linecap:butt; stroke-linejoin:round; stroke-width:4; stroke-opacity:1; fill:none\" points=\"\n",
       "  1572.13,147.058 1718.49,147.058 \n",
       "  \"/>\n",
       "<path clip-path=\"url(#clip330)\" d=\"M1763.23 143.389 Q1764.82 140.518 1767.04 139.153 Q1769.27 137.787 1772.28 137.787 Q1776.33 137.787 1778.53 140.634 Q1780.73 143.458 1780.73 148.689 L1780.73 164.338 L1776.44 164.338 L1776.44 148.828 Q1776.44 145.102 1775.12 143.296 Q1773.8 141.49 1771.1 141.49 Q1767.79 141.49 1765.86 143.69 Q1763.94 145.889 1763.94 149.685 L1763.94 164.338 L1759.66 164.338 L1759.66 148.828 Q1759.66 145.078 1758.34 143.296 Q1757.02 141.49 1754.27 141.49 Q1751 141.49 1749.08 143.713 Q1747.16 145.912 1747.16 149.685 L1747.16 164.338 L1742.88 164.338 L1742.88 138.412 L1747.16 138.412 L1747.16 142.44 Q1748.62 140.055 1750.66 138.921 Q1752.69 137.787 1755.49 137.787 Q1758.32 137.787 1760.29 139.222 Q1762.28 140.657 1763.23 143.389 Z\" fill=\"#000000\" fill-rule=\"evenodd\" fill-opacity=\"1\" /><path clip-path=\"url(#clip330)\" d=\"M1811.4 150.31 L1811.4 152.393 L1791.81 152.393 Q1792.09 156.791 1794.45 159.106 Q1796.84 161.398 1801.07 161.398 Q1803.53 161.398 1805.82 160.796 Q1808.13 160.194 1810.4 158.99 L1810.4 163.018 Q1808.11 163.99 1805.7 164.5 Q1803.29 165.009 1800.82 165.009 Q1794.61 165.009 1790.98 161.398 Q1787.37 157.787 1787.37 151.629 Q1787.37 145.264 1790.79 141.537 Q1794.24 137.787 1800.08 137.787 Q1805.31 137.787 1808.34 141.166 Q1811.4 144.523 1811.4 150.31 M1807.14 149.06 Q1807.09 145.565 1805.17 143.481 Q1803.27 141.398 1800.12 141.398 Q1796.56 141.398 1794.41 143.412 Q1792.28 145.426 1791.95 149.083 L1807.14 149.06 Z\" fill=\"#000000\" fill-rule=\"evenodd\" fill-opacity=\"1\" /><path clip-path=\"url(#clip330)\" d=\"M1835.45 142.347 L1835.45 128.319 L1839.71 128.319 L1839.71 164.338 L1835.45 164.338 L1835.45 160.449 Q1834.1 162.763 1832.04 163.898 Q1830.01 165.009 1827.14 165.009 Q1822.44 165.009 1819.47 161.259 Q1816.54 157.509 1816.54 151.398 Q1816.54 145.287 1819.47 141.537 Q1822.44 137.787 1827.14 137.787 Q1830.01 137.787 1832.04 138.921 Q1834.1 140.032 1835.45 142.347 M1820.93 151.398 Q1820.93 156.097 1822.85 158.782 Q1824.8 161.444 1828.18 161.444 Q1831.56 161.444 1833.5 158.782 Q1835.45 156.097 1835.45 151.398 Q1835.45 146.699 1833.5 144.037 Q1831.56 141.352 1828.18 141.352 Q1824.8 141.352 1822.85 144.037 Q1820.93 146.699 1820.93 151.398 Z\" fill=\"#000000\" fill-rule=\"evenodd\" fill-opacity=\"1\" /><path clip-path=\"url(#clip330)\" d=\"M1848.48 138.412 L1852.74 138.412 L1852.74 164.338 L1848.48 164.338 L1848.48 138.412 M1848.48 128.319 L1852.74 128.319 L1852.74 133.713 L1848.48 133.713 L1848.48 128.319 Z\" fill=\"#000000\" fill-rule=\"evenodd\" fill-opacity=\"1\" /><path clip-path=\"url(#clip330)\" d=\"M1873.43 151.305 Q1868.27 151.305 1866.28 152.486 Q1864.29 153.666 1864.29 156.514 Q1864.29 158.782 1865.77 160.125 Q1867.28 161.444 1869.85 161.444 Q1873.39 161.444 1875.52 158.944 Q1877.67 156.421 1877.67 152.254 L1877.67 151.305 L1873.43 151.305 M1881.93 149.546 L1881.93 164.338 L1877.67 164.338 L1877.67 160.402 Q1876.21 162.763 1874.03 163.898 Q1871.86 165.009 1868.71 165.009 Q1864.73 165.009 1862.37 162.787 Q1860.03 160.541 1860.03 156.791 Q1860.03 152.416 1862.95 150.194 Q1865.89 147.972 1871.7 147.972 L1877.67 147.972 L1877.67 147.555 Q1877.67 144.615 1875.72 143.018 Q1873.8 141.398 1870.31 141.398 Q1868.09 141.398 1865.98 141.93 Q1863.87 142.463 1861.93 143.527 L1861.93 139.592 Q1864.27 138.69 1866.47 138.25 Q1868.66 137.787 1870.75 137.787 Q1876.37 137.787 1879.15 140.703 Q1881.93 143.62 1881.93 149.546 Z\" fill=\"#000000\" fill-rule=\"evenodd\" fill-opacity=\"1\" /><path clip-path=\"url(#clip330)\" d=\"M1912.25 148.689 L1912.25 164.338 L1907.99 164.338 L1907.99 148.828 Q1907.99 145.148 1906.56 143.319 Q1905.12 141.49 1902.25 141.49 Q1898.8 141.49 1896.81 143.69 Q1894.82 145.889 1894.82 149.685 L1894.82 164.338 L1890.54 164.338 L1890.54 138.412 L1894.82 138.412 L1894.82 142.44 Q1896.35 140.102 1898.41 138.944 Q1900.49 137.787 1903.2 137.787 Q1907.67 137.787 1909.96 140.565 Q1912.25 143.319 1912.25 148.689 Z\" fill=\"#000000\" fill-rule=\"evenodd\" fill-opacity=\"1\" /><path clip-path=\"url(#clip330)\" d=\"M1945.86 141.398 Q1942.44 141.398 1940.45 144.083 Q1938.46 146.745 1938.46 151.398 Q1938.46 156.051 1940.42 158.736 Q1942.41 161.398 1945.86 161.398 Q1949.27 161.398 1951.26 158.713 Q1953.25 156.027 1953.25 151.398 Q1953.25 146.791 1951.26 144.106 Q1949.27 141.398 1945.86 141.398 M1945.86 137.787 Q1951.42 137.787 1954.59 141.398 Q1957.76 145.009 1957.76 151.398 Q1957.76 157.764 1954.59 161.398 Q1951.42 165.009 1945.86 165.009 Q1940.28 165.009 1937.11 161.398 Q1933.97 157.764 1933.97 151.398 Q1933.97 145.009 1937.11 141.398 Q1940.28 137.787 1945.86 137.787 Z\" fill=\"#000000\" fill-rule=\"evenodd\" fill-opacity=\"1\" /><path clip-path=\"url(#clip330)\" d=\"M1977.95 128.319 L1977.95 131.861 L1973.87 131.861 Q1971.58 131.861 1970.68 132.787 Q1969.8 133.713 1969.8 136.12 L1969.8 138.412 L1976.81 138.412 L1976.81 141.722 L1969.8 141.722 L1969.8 164.338 L1965.52 164.338 L1965.52 141.722 L1961.44 141.722 L1961.44 138.412 L1965.52 138.412 L1965.52 136.606 Q1965.52 132.278 1967.53 130.31 Q1969.54 128.319 1973.92 128.319 L1977.95 128.319 Z\" fill=\"#000000\" fill-rule=\"evenodd\" fill-opacity=\"1\" /><path clip-path=\"url(#clip330)\" d=\"M2000.79 131.051 L2000.79 138.412 L2009.57 138.412 L2009.57 141.722 L2000.79 141.722 L2000.79 155.796 Q2000.79 158.967 2001.65 159.87 Q2002.53 160.773 2005.19 160.773 L2009.57 160.773 L2009.57 164.338 L2005.19 164.338 Q2000.26 164.338 1998.39 162.509 Q1996.51 160.657 1996.51 155.796 L1996.51 141.722 L1993.39 141.722 L1993.39 138.412 L1996.51 138.412 L1996.51 131.051 L2000.79 131.051 Z\" fill=\"#000000\" fill-rule=\"evenodd\" fill-opacity=\"1\" /><path clip-path=\"url(#clip330)\" d=\"M2030.19 142.393 Q2029.47 141.977 2028.62 141.791 Q2027.78 141.583 2026.77 141.583 Q2023.15 141.583 2021.21 143.944 Q2019.29 146.282 2019.29 150.68 L2019.29 164.338 L2015.01 164.338 L2015.01 138.412 L2019.29 138.412 L2019.29 142.44 Q2020.63 140.078 2022.78 138.944 Q2024.94 137.787 2028.02 137.787 Q2028.46 137.787 2028.99 137.856 Q2029.52 137.903 2030.17 138.018 L2030.19 142.393 Z\" fill=\"#000000\" fill-rule=\"evenodd\" fill-opacity=\"1\" /><path clip-path=\"url(#clip330)\" d=\"M2046.44 151.305 Q2041.28 151.305 2039.29 152.486 Q2037.3 153.666 2037.3 156.514 Q2037.3 158.782 2038.78 160.125 Q2040.28 161.444 2042.85 161.444 Q2046.39 161.444 2048.52 158.944 Q2050.68 156.421 2050.68 152.254 L2050.68 151.305 L2046.44 151.305 M2054.94 149.546 L2054.94 164.338 L2050.68 164.338 L2050.68 160.402 Q2049.22 162.763 2047.04 163.898 Q2044.87 165.009 2041.72 165.009 Q2037.74 165.009 2035.38 162.787 Q2033.04 160.541 2033.04 156.791 Q2033.04 152.416 2035.96 150.194 Q2038.9 147.972 2044.71 147.972 L2050.68 147.972 L2050.68 147.555 Q2050.68 144.615 2048.73 143.018 Q2046.81 141.398 2043.32 141.398 Q2041.09 141.398 2038.99 141.93 Q2036.88 142.463 2034.94 143.527 L2034.94 139.592 Q2037.27 138.69 2039.47 138.25 Q2041.67 137.787 2043.76 137.787 Q2049.38 137.787 2052.16 140.703 Q2054.94 143.62 2054.94 149.546 Z\" fill=\"#000000\" fill-rule=\"evenodd\" fill-opacity=\"1\" /><path clip-path=\"url(#clip330)\" d=\"M2080.77 142.347 L2080.77 128.319 L2085.03 128.319 L2085.03 164.338 L2080.77 164.338 L2080.77 160.449 Q2079.43 162.763 2077.37 163.898 Q2075.33 165.009 2072.46 165.009 Q2067.76 165.009 2064.8 161.259 Q2061.86 157.509 2061.86 151.398 Q2061.86 145.287 2064.8 141.537 Q2067.76 137.787 2072.46 137.787 Q2075.33 137.787 2077.37 138.921 Q2079.43 140.032 2080.77 142.347 M2066.26 151.398 Q2066.26 156.097 2068.18 158.782 Q2070.12 161.444 2073.5 161.444 Q2076.88 161.444 2078.83 158.782 Q2080.77 156.097 2080.77 151.398 Q2080.77 146.699 2078.83 144.037 Q2076.88 141.352 2073.5 141.352 Q2070.12 141.352 2068.18 144.037 Q2066.26 146.699 2066.26 151.398 Z\" fill=\"#000000\" fill-rule=\"evenodd\" fill-opacity=\"1\" /><path clip-path=\"url(#clip330)\" d=\"M2115.98 150.31 L2115.98 152.393 L2096.39 152.393 Q2096.67 156.791 2099.03 159.106 Q2101.42 161.398 2105.65 161.398 Q2108.11 161.398 2110.4 160.796 Q2112.71 160.194 2114.98 158.99 L2114.98 163.018 Q2112.69 163.99 2110.28 164.5 Q2107.88 165.009 2105.4 165.009 Q2099.2 165.009 2095.56 161.398 Q2091.95 157.787 2091.95 151.629 Q2091.95 145.264 2095.38 141.537 Q2098.83 137.787 2104.66 137.787 Q2109.89 137.787 2112.92 141.166 Q2115.98 144.523 2115.98 150.31 M2111.72 149.06 Q2111.67 145.565 2109.75 143.481 Q2107.85 141.398 2104.7 141.398 Q2101.14 141.398 2098.99 143.412 Q2096.86 145.426 2096.53 149.083 L2111.72 149.06 Z\" fill=\"#000000\" fill-rule=\"evenodd\" fill-opacity=\"1\" /><path clip-path=\"url(#clip330)\" d=\"M2156.7 139.407 L2156.7 143.389 Q2154.89 142.393 2153.06 141.907 Q2151.26 141.398 2149.4 141.398 Q2145.26 141.398 2142.97 144.037 Q2140.68 146.652 2140.68 151.398 Q2140.68 156.143 2142.97 158.782 Q2145.26 161.398 2149.4 161.398 Q2151.26 161.398 2153.06 160.912 Q2154.89 160.402 2156.7 159.407 L2156.7 163.342 Q2154.91 164.176 2152.99 164.592 Q2151.09 165.009 2148.94 165.009 Q2143.08 165.009 2139.64 161.328 Q2136.19 157.648 2136.19 151.398 Q2136.19 145.055 2139.66 141.421 Q2143.15 137.787 2149.22 137.787 Q2151.19 137.787 2153.06 138.203 Q2154.94 138.597 2156.7 139.407 Z\" fill=\"#000000\" fill-rule=\"evenodd\" fill-opacity=\"1\" /><path clip-path=\"url(#clip330)\" d=\"M2174.15 141.398 Q2170.72 141.398 2168.73 144.083 Q2166.74 146.745 2166.74 151.398 Q2166.74 156.051 2168.71 158.736 Q2170.7 161.398 2174.15 161.398 Q2177.55 161.398 2179.54 158.713 Q2181.53 156.027 2181.53 151.398 Q2181.53 146.791 2179.54 144.106 Q2177.55 141.398 2174.15 141.398 M2174.15 137.787 Q2179.7 137.787 2182.88 141.398 Q2186.05 145.009 2186.05 151.398 Q2186.05 157.764 2182.88 161.398 Q2179.7 165.009 2174.15 165.009 Q2168.57 165.009 2165.4 161.398 Q2162.25 157.764 2162.25 151.398 Q2162.25 145.009 2165.4 141.398 Q2168.57 137.787 2174.15 137.787 Z\" fill=\"#000000\" fill-rule=\"evenodd\" fill-opacity=\"1\" /><path clip-path=\"url(#clip330)\" d=\"M2209.63 139.176 L2209.63 143.203 Q2207.83 142.277 2205.88 141.815 Q2203.94 141.352 2201.86 141.352 Q2198.69 141.352 2197.09 142.324 Q2195.51 143.296 2195.51 145.24 Q2195.51 146.722 2196.65 147.578 Q2197.78 148.412 2201.21 149.176 L2202.67 149.5 Q2207.2 150.472 2209.1 152.254 Q2211.02 154.014 2211.02 157.185 Q2211.02 160.796 2208.15 162.902 Q2205.31 165.009 2200.31 165.009 Q2198.22 165.009 2195.95 164.592 Q2193.71 164.199 2191.21 163.388 L2191.21 158.99 Q2193.57 160.217 2195.86 160.842 Q2198.15 161.444 2200.4 161.444 Q2203.41 161.444 2205.03 160.426 Q2206.65 159.384 2206.65 157.509 Q2206.65 155.773 2205.47 154.847 Q2204.31 153.921 2200.35 153.064 L2198.87 152.717 Q2194.91 151.884 2193.15 150.171 Q2191.39 148.435 2191.39 145.426 Q2191.39 141.768 2193.99 139.778 Q2196.58 137.787 2201.35 137.787 Q2203.71 137.787 2205.79 138.134 Q2207.88 138.481 2209.63 139.176 Z\" fill=\"#000000\" fill-rule=\"evenodd\" fill-opacity=\"1\" /><path clip-path=\"url(#clip330)\" d=\"M2222.02 131.051 L2222.02 138.412 L2230.79 138.412 L2230.79 141.722 L2222.02 141.722 L2222.02 155.796 Q2222.02 158.967 2222.88 159.87 Q2223.76 160.773 2226.42 160.773 L2230.79 160.773 L2230.79 164.338 L2226.42 164.338 Q2221.49 164.338 2219.61 162.509 Q2217.74 160.657 2217.74 155.796 L2217.74 141.722 L2214.61 141.722 L2214.61 138.412 L2217.74 138.412 L2217.74 131.051 L2222.02 131.051 Z\" fill=\"#000000\" fill-rule=\"evenodd\" fill-opacity=\"1\" /></svg>\n"
      ]
     },
     "execution_count": 104,
     "metadata": {},
     "output_type": "execute_result"
    }
   ],
   "source": [
    "plot(unique(df.year), tau_year, label = \"median of trade cost\")"
   ]
  }
 ],
 "metadata": {
  "kernelspec": {
   "display_name": "Julia 1.7.2",
   "language": "julia",
   "name": "julia-1.7"
  },
  "language_info": {
   "file_extension": ".jl",
   "mimetype": "application/julia",
   "name": "julia",
   "version": "1.7.2"
  }
 },
 "nbformat": 4,
 "nbformat_minor": 5
}
